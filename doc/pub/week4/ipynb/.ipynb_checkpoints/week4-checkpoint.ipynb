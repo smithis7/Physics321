{
 "cells": [
  {
   "cell_type": "markdown",
   "metadata": {},
   "source": [
    "<!-- dom:TITLE: PHY321: Motion examples, Forces, Newton's Laws and Motion Example -->\n",
    "# PHY321: Motion examples, Forces, Newton's Laws and Motion Example\n",
    "<!-- dom:AUTHOR: [Morten Hjorth-Jensen](http://mhjgit.github.io/info/doc/web/) at Department of Physics and Astronomy and Facility for Rare Ion Beams (FRIB), Michigan State University, USA & Department of Physics, University of Oslo, Norway -->\n",
    "<!-- Author: -->  \n",
    "**[Morten Hjorth-Jensen](http://mhjgit.github.io/info/doc/web/)**, Department of Physics and Astronomy and Facility for Rare Ion Beams (FRIB), Michigan State University, USA and Department of Physics, University of Oslo, Norway\n",
    "\n",
    "Date: **Jan 25, 2021**\n",
    "\n",
    "Copyright 1999-2021, [Morten Hjorth-Jensen](http://mhjgit.github.io/info/doc/web/). Released under CC Attribution-NonCommercial 4.0 license\n",
    "\n",
    "\n",
    "\n",
    "\n",
    "## Aims and Overarching Motivation\n",
    "\n",
    "### Monday\n",
    "\n",
    "We try to finalize the discussion we started last Friday on falling objects and numerical aspects thereof.\n",
    "If we get time, we start with a discussion of forces as well.\n",
    "\n",
    "Recommended reading: Taylor 1.3\n",
    "\n",
    "### Wednesday\n",
    "\n",
    "We revisit Newton's laws and discuss how to analyze a problem.\n",
    "\n",
    "Recommended reading: Taylor 1.4 and 1.5\n",
    "\n",
    "### Friday\n",
    "\n",
    "We discuss several examples and try to wrap up the discussions on Newton's laws.\n",
    "\n",
    "Recommended reading: Taylor 1.4-1.6 and 2.1-2.2 as examples of motion problems.\n",
    "\n",
    "\n",
    "\n",
    "## Basic Steps of Scientific Investigations\n",
    "\n",
    "Last week we discussed several basi elements of the scientific method. We repeat them here.\n",
    "\n",
    "An overarching aim in this course is to give you a deeper\n",
    "understanding of the scientific method. The problems we study will all\n",
    "involve cases where we can apply classical mechanics. In our previous\n",
    "material we already assumed that we had a model for the motion of an\n",
    "object.  Alternatively we could have data from experiment (like Usain\n",
    "Bolt's 100m world record run in 2008).  Or we could have performed\n",
    "ourselves an experiment and we want to understand which forces are at\n",
    "play and whether these forces can be understood in terms of\n",
    "fundamental forces.\n",
    "\n",
    "Our first step consists in identifying the problem. What we sketch\n",
    "here may include a mix of experiment and theoretical simulations, or\n",
    "just experiment or only theory.\n",
    "\n",
    "## Identifying our System\n",
    "\n",
    "Here we can ask questions like\n",
    "1. What kind of object is moving\n",
    "\n",
    "2. What kind of data do we have\n",
    "\n",
    "3. How do we measure position, velocity, acceleration etc\n",
    "\n",
    "4. Which initial conditions influence our system\n",
    "\n",
    "5. Other aspects which allow us to identify the system\n",
    "\n",
    "## Defining a Model\n",
    "\n",
    "With our eventual data and observations we would now like to develop a\n",
    "model for the system. In the end we want obviously to be able to\n",
    "understand which forces are at play and how they influence our\n",
    "specific system. That is, can we extract some deeper insights about a\n",
    "system?\n",
    "\n",
    "We need then to\n",
    "1. Find the forces that act on our system\n",
    "\n",
    "2. Introduce models for the forces\n",
    "\n",
    "3. Identify the equations which can govern the system (Newton's second law for example)\n",
    "\n",
    "4. More elements we deem important for defining our model\n",
    "\n",
    "## Solving the Equations\n",
    "\n",
    "With the model at hand, we can then solve the equations. In classical mechanics we normally end up  with solving sets of coupled ordinary differential equations or partial differential equations.\n",
    "1. Using Newton's second law we have equations of the type $\\boldsymbol{F}=m\\boldsymbol{a}=md\\boldsymbol{v}/dt$\n",
    "\n",
    "2. We need to  define the initial conditions (typically the initial velocity and position as functions of time) and/or initial conditions and boundary conditions\n",
    "\n",
    "3. The solution of the equations give us then the position, the velocity and other time-dependent quantities which may specify the motion of a given object.\n",
    "\n",
    "We are not yet done. With our lovely solvers, we need to start thinking.\n",
    "\n",
    "## Analyze\n",
    "\n",
    "Now it is time to ask the big questions. What do our results mean? Can we give a simple interpretation in terms of fundamental laws?  What do our results mean? Are they correct?\n",
    "Thus, typical questions we may ask are\n",
    "1. Are our results for say $\\boldsymbol{r}(t)$ valid?  Do we trust what we did?  Can you validate and verify the correctness of your results?\n",
    "\n",
    "2. Evaluate the answers and their implications\n",
    "\n",
    "3. Compare with experimental data if possible. Does our model make sense?\n",
    "\n",
    "4. and obviously many other questions.\n",
    "\n",
    "The analysis stage feeds back to the first stage. It may happen that\n",
    "the data we had were not good enough, there could be large statistical\n",
    "uncertainties. We may need to collect more data or perhaps we did a\n",
    "sloppy job in identifying the degrees of freedom.\n",
    "\n",
    "All these steps are essential elements in a scientific\n",
    "enquiry. Hopefully, through a mix of numerical simulations, analytical\n",
    "calculations and experiments we may gain a deeper insight about the\n",
    "physics of a specific system.\n",
    "\n",
    "\n",
    "## Falling baseball in one dimension\n",
    "\n",
    "We anticipate the mathematical model to come and assume that we have a\n",
    "model for the motion of a falling baseball without air resistance.\n",
    "Our system (the baseball) is at an initial height $y_0$ (which we will\n",
    "specify in the program below) at the initial time $t_0=0$. In our program example here we will plot the position in steps of $\\Delta t$ up to a final time $t_f$. \n",
    "The mathematical formula for the position $y(t)$ as function of time $t$ is"
   ]
  },
  {
   "cell_type": "markdown",
   "metadata": {},
   "source": [
    "$$\n",
    "y(t) = y_0-\\frac{1}{2}gt^2,\n",
    "$$"
   ]
  },
  {
   "cell_type": "markdown",
   "metadata": {},
   "source": [
    "where $g=9.80665=0.980655\\times 10^1$m/s${}^2$ is a constant representing the standard acceleration due to gravity.\n",
    "We have here adopted the conventional standard value. This does not take into account other effects, such as buoyancy or drag.\n",
    "Furthermore, we stop when the ball hits the ground, which takes place at"
   ]
  },
  {
   "cell_type": "markdown",
   "metadata": {},
   "source": [
    "$$\n",
    "y(t) = 0= y_0-\\frac{1}{2}gt^2,\n",
    "$$"
   ]
  },
  {
   "cell_type": "markdown",
   "metadata": {},
   "source": [
    "which gives us a final time $t_f=\\sqrt{2y_0/g}$. \n",
    "\n",
    "As of now we simply assume that   we know the formula for the falling object. Afterwards, we will derive it.\n",
    "\n",
    "## Our Python Encounter\n",
    "\n",
    "We start with preparing folders for storing our calculations, figures and if needed, specific data files we use as input or output files."
   ]
  },
  {
   "cell_type": "code",
   "execution_count": null,
   "metadata": {},
   "outputs": [],
   "source": [
    "%matplotlib inline\n",
    "\n",
    "# Common imports\n",
    "import numpy as np\n",
    "import pandas as pd\n",
    "import matplotlib.pyplot as plt\n",
    "import os\n",
    "\n",
    "# Where to save the figures and data files\n",
    "PROJECT_ROOT_DIR = \"Results\"\n",
    "FIGURE_ID = \"Results/FigureFiles\"\n",
    "DATA_ID = \"DataFiles/\"\n",
    "\n",
    "if not os.path.exists(PROJECT_ROOT_DIR):\n",
    "    os.mkdir(PROJECT_ROOT_DIR)\n",
    "\n",
    "if not os.path.exists(FIGURE_ID):\n",
    "    os.makedirs(FIGURE_ID)\n",
    "\n",
    "if not os.path.exists(DATA_ID):\n",
    "    os.makedirs(DATA_ID)\n",
    "\n",
    "def image_path(fig_id):\n",
    "    return os.path.join(FIGURE_ID, fig_id)\n",
    "\n",
    "def data_path(dat_id):\n",
    "    return os.path.join(DATA_ID, dat_id)\n",
    "\n",
    "def save_fig(fig_id):\n",
    "    plt.savefig(image_path(fig_id) + \".png\", format='png')\n",
    "\n",
    "#in case we have an input file we wish to read in\n",
    "#infile = open(data_path(\"MassEval2016.dat\"),'r')"
   ]
  },
  {
   "cell_type": "markdown",
   "metadata": {},
   "source": [
    "You could also define a function for making our plots. You\n",
    "can obviously avoid this and simply set up various **matplotlib**\n",
    "commands every time you need them. You may however find it convenient\n",
    "to collect all such commands in one function and simply call this\n",
    "function."
   ]
  },
  {
   "cell_type": "code",
   "execution_count": null,
   "metadata": {},
   "outputs": [],
   "source": [
    "from pylab import plt, mpl\n",
    "plt.style.use('seaborn')\n",
    "mpl.rcParams['font.family'] = 'serif'\n",
    "\n",
    "def MakePlot(x,y, styles, labels, axlabels):\n",
    "    plt.figure(figsize=(10,6))\n",
    "    for i in range(len(x)):\n",
    "        plt.plot(x[i], y[i], styles[i], label = labels[i])\n",
    "        plt.xlabel(axlabels[0])\n",
    "        plt.ylabel(axlabels[1])\n",
    "    plt.legend(loc=0)"
   ]
  },
  {
   "cell_type": "markdown",
   "metadata": {},
   "source": [
    "Thereafter we start setting up the code for the falling object."
   ]
  },
  {
   "cell_type": "code",
   "execution_count": null,
   "metadata": {},
   "outputs": [],
   "source": [
    "%matplotlib inline\n",
    "import matplotlib.patches as mpatches\n",
    "\n",
    "g = 9.80655 #m/s^2\n",
    "y_0 = 10.0 # initial position in meters\n",
    "DeltaT = 0.1  # time step\n",
    "# final time when y = 0, t = sqrt(2*10/g)\n",
    "tfinal = np.sqrt(2.0*y_0/g)\n",
    "#set up arrays \n",
    "t = np.arange(0,tfinal,DeltaT)\n",
    "y =y_0 -g*.5*t**2\n",
    "# Then make a nice printout in table form using Pandas\n",
    "import pandas as pd\n",
    "from IPython.display import display\n",
    "data = {'t[s]': t,\n",
    "        'y[m]': y\n",
    "        }\n",
    "RawData = pd.DataFrame(data)\n",
    "display(RawData)\n",
    "plt.style.use('ggplot')\n",
    "plt.figure(figsize=(8,8))\n",
    "plt.scatter(t, y, color = 'b')\n",
    "blue_patch = mpatches.Patch(color = 'b', label = 'Height y as function of  time t')\n",
    "plt.legend(handles=[blue_patch])\n",
    "plt.xlabel(\"t[s]\")\n",
    "plt.ylabel(\"y[m]\")\n",
    "save_fig(\"FallingBaseball\")\n",
    "plt.show()"
   ]
  },
  {
   "cell_type": "markdown",
   "metadata": {},
   "source": [
    "Here we used **pandas** (see below) to systemize the output of the position as function of time.\n",
    "\n",
    "\n",
    "## Average quantities\n",
    "We define now the average velocity as"
   ]
  },
  {
   "cell_type": "markdown",
   "metadata": {},
   "source": [
    "$$\n",
    "\\overline{v}(t) = \\frac{y(t+\\Delta t)-y(t)}{\\Delta t}.\n",
    "$$"
   ]
  },
  {
   "cell_type": "markdown",
   "metadata": {},
   "source": [
    "In the code we have set the time step $\\Delta t$ to a given value. We could define it in terms of the number of points $n$ as"
   ]
  },
  {
   "cell_type": "markdown",
   "metadata": {},
   "source": [
    "$$\n",
    "\\Delta t = \\frac{t_{\\mathrm{final}-}t_{\\mathrm{initial}}}{n+1}.\n",
    "$$"
   ]
  },
  {
   "cell_type": "markdown",
   "metadata": {},
   "source": [
    "Since we have discretized the variables, we introduce the counter $i$ and let $y(t)\\rightarrow y(t_i)=y_i$ and $t\\rightarrow t_i$\n",
    "with $i=0,1,\\dots, n$. This gives us the following shorthand notations that we will use for the rest of this course. We define"
   ]
  },
  {
   "cell_type": "markdown",
   "metadata": {},
   "source": [
    "$$\n",
    "y_i = y(t_i),\\hspace{0.2cm} i=0,1,2,\\dots,n.\n",
    "$$"
   ]
  },
  {
   "cell_type": "markdown",
   "metadata": {},
   "source": [
    "This applies to other variables which depend on say time. Examples are the velocities, accelerations, momenta etc.\n",
    "Furthermore we use the shorthand"
   ]
  },
  {
   "cell_type": "markdown",
   "metadata": {},
   "source": [
    "$$\n",
    "y_{i\\pm 1} = y(t_i\\pm \\Delta t),\\hspace{0.12cm} i=0,1,2,\\dots,n.\n",
    "$$"
   ]
  },
  {
   "cell_type": "markdown",
   "metadata": {},
   "source": [
    "## Compact equations\n",
    "We can then rewrite in a more compact form the average velocity as"
   ]
  },
  {
   "cell_type": "markdown",
   "metadata": {},
   "source": [
    "$$\n",
    "\\overline{v}_i = \\frac{y_{i+1}-y_{i}}{\\Delta t}.\n",
    "$$"
   ]
  },
  {
   "cell_type": "markdown",
   "metadata": {},
   "source": [
    "The velocity is defined as the change in position per unit time.\n",
    "In the limit $\\Delta t \\rightarrow 0$ this defines the instantaneous velocity, which is nothing but the slope of the position at a time $t$.\n",
    "We have thus"
   ]
  },
  {
   "cell_type": "markdown",
   "metadata": {},
   "source": [
    "$$\n",
    "v(t) = \\frac{dy}{dt}=\\lim_{\\Delta t \\rightarrow 0}\\frac{y(t+\\Delta t)-y(t)}{\\Delta t}.\n",
    "$$"
   ]
  },
  {
   "cell_type": "markdown",
   "metadata": {},
   "source": [
    "Similarly, we can define the average acceleration as the change in velocity per unit time as"
   ]
  },
  {
   "cell_type": "markdown",
   "metadata": {},
   "source": [
    "$$\n",
    "\\overline{a}_i = \\frac{v_{i+1}-v_{i}}{\\Delta t},\n",
    "$$"
   ]
  },
  {
   "cell_type": "markdown",
   "metadata": {},
   "source": [
    "resulting in the instantaneous acceleration"
   ]
  },
  {
   "cell_type": "markdown",
   "metadata": {},
   "source": [
    "$$\n",
    "a(t) = \\frac{dv}{dt}=\\lim_{\\Delta t\\rightarrow 0}\\frac{v(t+\\Delta t)-v(t)}{\\Delta t}.\n",
    "$$"
   ]
  },
  {
   "cell_type": "markdown",
   "metadata": {},
   "source": [
    "**A note on notations**: When writing for example the velocity as $v(t)$ we are then referring to the continuous and instantaneous value. A subscript like\n",
    "$v_i$ refers always to the discretized values.\n",
    "\n",
    "## A differential equation\n",
    "We can rewrite the instantaneous acceleration as"
   ]
  },
  {
   "cell_type": "markdown",
   "metadata": {},
   "source": [
    "$$\n",
    "a(t) = \\frac{dv}{dt}=\\frac{d}{dt}\\frac{dy}{dt}=\\frac{d^2y}{dt^2}.\n",
    "$$"
   ]
  },
  {
   "cell_type": "markdown",
   "metadata": {},
   "source": [
    "This forms the starting point for our definition of forces later. It is a famous second-order differential equation. If the acceleration is constant we can now recover the formula for the falling ball we started with.\n",
    "The acceleration can depend on the position and the velocity. To be more formal we should then write the above differential equation as"
   ]
  },
  {
   "cell_type": "markdown",
   "metadata": {},
   "source": [
    "$$\n",
    "\\frac{d^2y}{dt^2}=a(t,y(t),\\frac{dy}{dt}).\n",
    "$$"
   ]
  },
  {
   "cell_type": "markdown",
   "metadata": {},
   "source": [
    "With given initial conditions for $y(t_0)$ and $v(t_0)$ we can then\n",
    "integrate the above equation and find the velocities and positions at\n",
    "a given time $t$.\n",
    "\n",
    "If we multiply with mass, we have one of the famous expressions for Newton's second law,"
   ]
  },
  {
   "cell_type": "markdown",
   "metadata": {},
   "source": [
    "$$\n",
    "F(y,v,t)=m\\frac{d^2y}{dt^2}=ma(t,y(t),\\frac{dy}{dt}),\n",
    "$$"
   ]
  },
  {
   "cell_type": "markdown",
   "metadata": {},
   "source": [
    "where $F$ is the force acting on an object with mass $m$. We see that it also has the right dimension, mass times length divided by time squared.\n",
    "We will come back to this soon.\n",
    "\n",
    "## Integrating our equations\n",
    "\n",
    "Formally we can then, starting with the acceleration (suppose we have measured it, how could we do that?)\n",
    "compute say the height of a building.  To see this we perform the following integrations from an initial time $t_0$  to a given time $t$"
   ]
  },
  {
   "cell_type": "markdown",
   "metadata": {},
   "source": [
    "$$\n",
    "\\int_{t_0}^t dt a(t) = \\int_{t_0}^t dt \\frac{dv}{dt} = v(t)-v(t_0),\n",
    "$$"
   ]
  },
  {
   "cell_type": "markdown",
   "metadata": {},
   "source": [
    "or as"
   ]
  },
  {
   "cell_type": "markdown",
   "metadata": {},
   "source": [
    "$$\n",
    "v(t)=v(t_0)+\\int_{t_0}^t dt a(t).\n",
    "$$"
   ]
  },
  {
   "cell_type": "markdown",
   "metadata": {},
   "source": [
    "When we know the velocity as function of time, we can find the position as function of time starting from the defintion of velocity as the derivative with respect to time, that is we have"
   ]
  },
  {
   "cell_type": "markdown",
   "metadata": {},
   "source": [
    "$$\n",
    "\\int_{t_0}^t dt v(t) = \\int_{t_0}^t dt \\frac{dy}{dt} = y(t)-y(t_0),\n",
    "$$"
   ]
  },
  {
   "cell_type": "markdown",
   "metadata": {},
   "source": [
    "or as"
   ]
  },
  {
   "cell_type": "markdown",
   "metadata": {},
   "source": [
    "$$\n",
    "y(t)=y(t_0)+\\int_{t_0}^t dt v(t).\n",
    "$$"
   ]
  },
  {
   "cell_type": "markdown",
   "metadata": {},
   "source": [
    "These equations define what is called the integration method for\n",
    "finding the position and the velocity as functions of time. There is\n",
    "no loss of generality if we extend these equations to more than one\n",
    "spatial dimension.\n",
    "\n",
    "## Constant acceleration case, the velocity\n",
    "Let us compute the velocity using the constant value for the acceleration given by $-g$. We have"
   ]
  },
  {
   "cell_type": "markdown",
   "metadata": {},
   "source": [
    "$$\n",
    "v(t)=v(t_0)+\\int_{t_0}^t dt a(t)=v(t_0)+\\int_{t_0}^t dt (-g).\n",
    "$$"
   ]
  },
  {
   "cell_type": "markdown",
   "metadata": {},
   "source": [
    "Using our initial time as $t_0=0$s and setting the initial velocity $v(t_0)=v_0=0$m/s we get when integrating"
   ]
  },
  {
   "cell_type": "markdown",
   "metadata": {},
   "source": [
    "$$\n",
    "v(t)=-gt.\n",
    "$$"
   ]
  },
  {
   "cell_type": "markdown",
   "metadata": {},
   "source": [
    "The more general case is"
   ]
  },
  {
   "cell_type": "markdown",
   "metadata": {},
   "source": [
    "$$\n",
    "v(t)=v_0-g(t-t_0).\n",
    "$$"
   ]
  },
  {
   "cell_type": "markdown",
   "metadata": {},
   "source": [
    "We can then integrate the velocity and obtain the final formula for the position as function of time through"
   ]
  },
  {
   "cell_type": "markdown",
   "metadata": {},
   "source": [
    "$$\n",
    "y(t)=y(t_0)+\\int_{t_0}^t dt v(t)=y_0+\\int_{t_0}^t dt v(t)=y_0+\\int_{t_0}^t dt (-gt),\n",
    "$$"
   ]
  },
  {
   "cell_type": "markdown",
   "metadata": {},
   "source": [
    "With $y_0=10$m and $t_0=0$s, we obtain the equation we started with"
   ]
  },
  {
   "cell_type": "markdown",
   "metadata": {},
   "source": [
    "$$\n",
    "y(t)=10-\\frac{1}{2}gt^2.\n",
    "$$"
   ]
  },
  {
   "cell_type": "markdown",
   "metadata": {},
   "source": [
    "## Computing the averages\n",
    "After this mathematical background we are now ready to compute the mean velocity using our data."
   ]
  },
  {
   "cell_type": "code",
   "execution_count": null,
   "metadata": {},
   "outputs": [],
   "source": [
    "# Now we can compute the mean velocity using our data\n",
    "# We define first an array Vaverage\n",
    "n = np.size(t)\n",
    "Vaverage = np.zeros(n)\n",
    "for i in range(1,n-1):\n",
    "    Vaverage[i] = (y[i+1]-y[i])/DeltaT\n",
    "# Now we can compute the mean accelearatio using our data\n",
    "# We define first an array Aaverage\n",
    "n = np.size(t)\n",
    "Aaverage = np.zeros(n)\n",
    "Aaverage[0] = -g\n",
    "for i in range(1,n-1):\n",
    "    Aaverage[i] = (Vaverage[i+1]-Vaverage[i])/DeltaT\n",
    "data = {'t[s]': t,\n",
    "        'y[m]': y,\n",
    "        'v[m/s]': Vaverage,\n",
    "        'a[m/s^2]': Aaverage\n",
    "        }\n",
    "NewData = pd.DataFrame(data)\n",
    "display(NewData[0:n-2])"
   ]
  },
  {
   "cell_type": "markdown",
   "metadata": {},
   "source": [
    "Note that we don't print the last values! \n",
    "\n",
    "\n",
    "\n",
    "## Including Air Resistance in our model\n",
    "\n",
    "In our discussions till now of the falling baseball, we have ignored\n",
    "air resistance and simply assumed that our system is only influenced\n",
    "by the gravitational force.  We will postpone the derivation of air\n",
    "resistance till later, after our discussion of Newton's laws and\n",
    "forces.\n",
    "\n",
    "For our discussions here it suffices to state that the accelerations is now modified to"
   ]
  },
  {
   "cell_type": "markdown",
   "metadata": {},
   "source": [
    "$$\n",
    "\\boldsymbol{a}(t) = -g +D\\boldsymbol{v}(t)\\vert v(t)\\vert,\n",
    "$$"
   ]
  },
  {
   "cell_type": "markdown",
   "metadata": {},
   "source": [
    "where $\\vert v(t)\\vert$ is the absolute value of the velocity and $D$ is a constant which pertains to the specific object we are studying.\n",
    "Since we are dealing with motion in one dimension, we can simplify the above to"
   ]
  },
  {
   "cell_type": "markdown",
   "metadata": {},
   "source": [
    "$$\n",
    "a(t) = -g +Dv^2(t).\n",
    "$$"
   ]
  },
  {
   "cell_type": "markdown",
   "metadata": {},
   "source": [
    "We can rewrite this as a differential equation"
   ]
  },
  {
   "cell_type": "markdown",
   "metadata": {},
   "source": [
    "$$\n",
    "a(t) = \\frac{dv}{dt}=\\frac{d^2y}{dt^2}= -g +Dv^2(t).\n",
    "$$"
   ]
  },
  {
   "cell_type": "markdown",
   "metadata": {},
   "source": [
    "Using the integral equations discussed above we can integrate twice\n",
    "and obtain first the velocity as function of time and thereafter the\n",
    "position as function of time.\n",
    "\n",
    "For this particular case, we can actually obtain an analytical\n",
    "solution for the velocity and for the position. Here we will first\n",
    "compute the solutions analytically, thereafter we will derive Euler's\n",
    "method for solving these differential equations numerically.\n",
    "\n",
    "## Analytical solutions\n",
    "\n",
    "For simplicity let us just write $v(t)$ as $v$. We have"
   ]
  },
  {
   "cell_type": "markdown",
   "metadata": {},
   "source": [
    "$$\n",
    "\\frac{dv}{dt}= -g +Dv^2(t).\n",
    "$$"
   ]
  },
  {
   "cell_type": "markdown",
   "metadata": {},
   "source": [
    "We can solve this using the technique of separation of variables. We\n",
    "isolate on the left all terms that involve $v$ and on the right all\n",
    "terms that involve time. We get then"
   ]
  },
  {
   "cell_type": "markdown",
   "metadata": {},
   "source": [
    "$$\n",
    "\\frac{dv}{g -Dv^2(t) }= -dt,\n",
    "$$"
   ]
  },
  {
   "cell_type": "markdown",
   "metadata": {},
   "source": [
    "We scale now the equation to the left by introducing a constant\n",
    "$v_T=\\sqrt{g/D}$. This constant has dimension length/time. Can you\n",
    "show this?\n",
    "\n",
    "Next we integrate the left-hand side (lhs) from $v_0=0$ m/s to $v$ and\n",
    "the right-hand side (rhs) from $t_0=0$ to $t$ and obtain"
   ]
  },
  {
   "cell_type": "markdown",
   "metadata": {},
   "source": [
    "$$\n",
    "\\int_{0}^v\\frac{dv}{g -Dv^2(t) }= \\frac{v_T}{g}\\mathrm{arctanh}(\\frac{v}{v_T})  =-\\int_0^tdt = -t.\n",
    "$$"
   ]
  },
  {
   "cell_type": "markdown",
   "metadata": {},
   "source": [
    "We can reorganize these equations as"
   ]
  },
  {
   "cell_type": "markdown",
   "metadata": {},
   "source": [
    "$$\n",
    "v_T\\mathrm{arctanh}(\\frac{v}{v_T})  =-gt,\n",
    "$$"
   ]
  },
  {
   "cell_type": "markdown",
   "metadata": {},
   "source": [
    "which gives us $v$ as function of time"
   ]
  },
  {
   "cell_type": "markdown",
   "metadata": {},
   "source": [
    "$$\n",
    "v(t)=v_T\\tanh{-(\\frac{gt}{v_T})}.\n",
    "$$"
   ]
  },
  {
   "cell_type": "markdown",
   "metadata": {},
   "source": [
    "## Finding the final height\n",
    "With the velocity we can then find the height $y(t)$ by integrating yet another time, that is"
   ]
  },
  {
   "cell_type": "markdown",
   "metadata": {},
   "source": [
    "$$\n",
    "y(t)=y(t_0)+\\int_{t_0}^t dt v(t)=\\int_{0}^t dt[v_T\\tanh{-(\\frac{gt}{v_T})}].\n",
    "$$"
   ]
  },
  {
   "cell_type": "markdown",
   "metadata": {},
   "source": [
    "This integral is a little bit trickier but we can look it up in a table over \n",
    "known integrals and we get"
   ]
  },
  {
   "cell_type": "markdown",
   "metadata": {},
   "source": [
    "$$\n",
    "y(t)=y(t_0)-\\frac{v_T^2}{g}\\log{[\\cosh{(\\frac{gt}{v_T})}]}.\n",
    "$$"
   ]
  },
  {
   "cell_type": "markdown",
   "metadata": {},
   "source": [
    "Alternatively we could have used the symbolic Python package **Sympy**.\n",
    "\n",
    "In most cases however, we need to revert to numerical solutions. \n",
    "\n",
    "\n",
    "## Our first attempt at solving differential equations\n",
    "\n",
    "Here we will try the simplest possible approach to solving the second-order differential \n",
    "equation"
   ]
  },
  {
   "cell_type": "markdown",
   "metadata": {},
   "source": [
    "$$\n",
    "a(t) =\\frac{d^2y}{dt^2}= -g +Dv^2(t).\n",
    "$$"
   ]
  },
  {
   "cell_type": "markdown",
   "metadata": {},
   "source": [
    "We rewrite it as two coupled first-order equations (this is a standard approach)"
   ]
  },
  {
   "cell_type": "markdown",
   "metadata": {},
   "source": [
    "$$\n",
    "\\frac{dy}{dt} = v(t),\n",
    "$$"
   ]
  },
  {
   "cell_type": "markdown",
   "metadata": {},
   "source": [
    "with initial condition $y(t_0)=y_0$ and"
   ]
  },
  {
   "cell_type": "markdown",
   "metadata": {},
   "source": [
    "$$\n",
    "a(t) =\\frac{dv}{dt}= -g +Dv^2(t),\n",
    "$$"
   ]
  },
  {
   "cell_type": "markdown",
   "metadata": {},
   "source": [
    "with initial condition $v(t_0)=v_0$.\n",
    "\n",
    "Many of the algorithms for solving differential equations start with simple Taylor equations.\n",
    "If we now Taylor expand $y$ and $v$ around a value $t+\\Delta t$ we have"
   ]
  },
  {
   "cell_type": "markdown",
   "metadata": {},
   "source": [
    "$$\n",
    "y(t+\\Delta t) = y(t)+\\Delta t \\frac{dy}{dt}+\\frac{\\Delta t^2}{2!} \\frac{d^2y}{dt^2}+O(\\Delta t^3),\n",
    "$$"
   ]
  },
  {
   "cell_type": "markdown",
   "metadata": {},
   "source": [
    "and"
   ]
  },
  {
   "cell_type": "markdown",
   "metadata": {},
   "source": [
    "$$\n",
    "v(t+\\Delta t) = v(t)+\\Delta t \\frac{dv}{dt}+\\frac{\\Delta t^2}{2!} \\frac{d^2v}{dt^2}+O(\\Delta t^3).\n",
    "$$"
   ]
  },
  {
   "cell_type": "markdown",
   "metadata": {},
   "source": [
    "Using the fact that $dy/dt = v$ and $dv/dt=a$ and keeping only terms up to $\\Delta t$ we have"
   ]
  },
  {
   "cell_type": "markdown",
   "metadata": {},
   "source": [
    "$$\n",
    "y(t+\\Delta t) = y(t)+\\Delta t v(t)+O(\\Delta t^2),\n",
    "$$"
   ]
  },
  {
   "cell_type": "markdown",
   "metadata": {},
   "source": [
    "and"
   ]
  },
  {
   "cell_type": "markdown",
   "metadata": {},
   "source": [
    "$$\n",
    "v(t+\\Delta t) = v(t)+\\Delta t a(t)+O(\\Delta t^2).\n",
    "$$"
   ]
  },
  {
   "cell_type": "markdown",
   "metadata": {},
   "source": [
    "## Discretizing our equations\n",
    "\n",
    "Using our discretized versions of the equations with for example\n",
    "$y_{i}=y(t_i)$ and $y_{i\\pm 1}=y(t_i+\\Delta t)$, we can rewrite the\n",
    "above equations as (and truncating at $\\Delta t$)"
   ]
  },
  {
   "cell_type": "markdown",
   "metadata": {},
   "source": [
    "$$\n",
    "y_{i+1} = y_i+\\Delta t v_i,\n",
    "$$"
   ]
  },
  {
   "cell_type": "markdown",
   "metadata": {},
   "source": [
    "and"
   ]
  },
  {
   "cell_type": "markdown",
   "metadata": {},
   "source": [
    "$$\n",
    "v_{i+1} = v_i+\\Delta t a_i.\n",
    "$$"
   ]
  },
  {
   "cell_type": "markdown",
   "metadata": {},
   "source": [
    "These are the famous Euler equations (forward Euler).\n",
    "\n",
    "To solve these equations numerically we start at a time $t_0$ and simply integrate up these equations to a final time $t_f$,\n",
    "The step size $\\Delta t$ is an input  parameter in our code.\n",
    "You can define it directly in the code below as"
   ]
  },
  {
   "cell_type": "code",
   "execution_count": null,
   "metadata": {},
   "outputs": [],
   "source": [
    "DeltaT = 0.1"
   ]
  },
  {
   "cell_type": "markdown",
   "metadata": {},
   "source": [
    "With a given final time **tfinal**  we can then find the number of integration points via the **ceil** function included in the **math** package of Python\n",
    "as"
   ]
  },
  {
   "cell_type": "code",
   "execution_count": null,
   "metadata": {},
   "outputs": [],
   "source": [
    "#define final time, assuming that initial time is zero\n",
    "from math import ceil\n",
    "tfinal = 0.5\n",
    "n = ceil(tfinal/DeltaT)\n",
    "print(n)"
   ]
  },
  {
   "cell_type": "markdown",
   "metadata": {},
   "source": [
    "The **ceil** function returns the smallest integer not less than the input in say"
   ]
  },
  {
   "cell_type": "code",
   "execution_count": null,
   "metadata": {},
   "outputs": [],
   "source": [
    "x = 21.15\n",
    "print(ceil(x))"
   ]
  },
  {
   "cell_type": "markdown",
   "metadata": {},
   "source": [
    "which in the case here is 22."
   ]
  },
  {
   "cell_type": "code",
   "execution_count": null,
   "metadata": {},
   "outputs": [],
   "source": [
    "x = 21.75\n",
    "print(ceil(x))"
   ]
  },
  {
   "cell_type": "markdown",
   "metadata": {},
   "source": [
    "which also yields 22. The  **floor** function in the **math** package\n",
    "is used to return the closest integer value which is less than or equal to the specified expression or value.\n",
    "Compare the previous result to the usage of **floor**"
   ]
  },
  {
   "cell_type": "code",
   "execution_count": null,
   "metadata": {},
   "outputs": [],
   "source": [
    "from math import floor\n",
    "x = 21.75\n",
    "print(floor(x))"
   ]
  },
  {
   "cell_type": "markdown",
   "metadata": {},
   "source": [
    "Alternatively, we can define ourselves the number of integration(mesh) points. In this case we could have"
   ]
  },
  {
   "cell_type": "code",
   "execution_count": null,
   "metadata": {},
   "outputs": [],
   "source": [
    "n = 10\n",
    "tinitial = 0.0\n",
    "tfinal = 0.5\n",
    "DeltaT = (tfinal-tinitial)/(n)\n",
    "print(DeltaT)"
   ]
  },
  {
   "cell_type": "markdown",
   "metadata": {},
   "source": [
    "Since we will set up one-dimensional arrays that contain the values of\n",
    "various variables like time, position, velocity, acceleration etc, we\n",
    "need to know the value of $n$, the number of data points (or\n",
    "integration or mesh points).  With $n$ we can initialize a given array\n",
    "by setting all elelements to zero, as done here"
   ]
  },
  {
   "cell_type": "code",
   "execution_count": null,
   "metadata": {},
   "outputs": [],
   "source": [
    "# define array a\n",
    "a = np.zeros(n)\n",
    "print(a)"
   ]
  },
  {
   "cell_type": "markdown",
   "metadata": {},
   "source": [
    "## Code for implementing Euler's method\n",
    "In the code here we implement this simple Eurler scheme choosing a value for $D=0.0245$ m/s."
   ]
  },
  {
   "cell_type": "code",
   "execution_count": null,
   "metadata": {},
   "outputs": [],
   "source": [
    "# Common imports\n",
    "import numpy as np\n",
    "import pandas as pd\n",
    "from math import *\n",
    "import matplotlib.pyplot as plt\n",
    "import os\n",
    "\n",
    "# Where to save the figures and data files\n",
    "PROJECT_ROOT_DIR = \"Results\"\n",
    "FIGURE_ID = \"Results/FigureFiles\"\n",
    "DATA_ID = \"DataFiles/\"\n",
    "\n",
    "if not os.path.exists(PROJECT_ROOT_DIR):\n",
    "    os.mkdir(PROJECT_ROOT_DIR)\n",
    "\n",
    "if not os.path.exists(FIGURE_ID):\n",
    "    os.makedirs(FIGURE_ID)\n",
    "\n",
    "if not os.path.exists(DATA_ID):\n",
    "    os.makedirs(DATA_ID)\n",
    "\n",
    "def image_path(fig_id):\n",
    "    return os.path.join(FIGURE_ID, fig_id)\n",
    "\n",
    "def data_path(dat_id):\n",
    "    return os.path.join(DATA_ID, dat_id)\n",
    "\n",
    "def save_fig(fig_id):\n",
    "    plt.savefig(image_path(fig_id) + \".png\", format='png')\n",
    "\n",
    "\n",
    "g = 9.80655 #m/s^2\n",
    "D = 0.00245 #m/s\n",
    "DeltaT = 0.1\n",
    "#set up arrays \n",
    "tfinal = 0.5\n",
    "n = ceil(tfinal/DeltaT)\n",
    "# define scaling constant vT\n",
    "vT = sqrt(g/D)\n",
    "# set up arrays for t, a, v, and y and we can compare our results with analytical ones\n",
    "t = np.zeros(n)\n",
    "a = np.zeros(n)\n",
    "v = np.zeros(n)\n",
    "y = np.zeros(n)\n",
    "yanalytic = np.zeros(n)\n",
    "# Initial conditions\n",
    "v[0] = 0.0  #m/s\n",
    "y[0] = 10.0 #m\n",
    "yanalytic[0] = y[0]\n",
    "# Start integrating using Euler's method\n",
    "for i in range(n-1):\n",
    "    # expression for acceleration\n",
    "    a[i] = -g + D*v[i]*v[i]\n",
    "    # update velocity and position\n",
    "    y[i+1] = y[i] + DeltaT*v[i]\n",
    "    v[i+1] = v[i] + DeltaT*a[i]\n",
    "    # update time to next time step and compute analytical answer\n",
    "    t[i+1] = t[i] + DeltaT\n",
    "    yanalytic[i+1] = y[0]-(vT*vT/g)*log(cosh(g*t[i+1]/vT))\n",
    "    if ( y[i+1] < 0.0):\n",
    "        break\n",
    "a[n-1] = -g + D*v[n-1]*v[n-1]\n",
    "data = {'t[s]': t,\n",
    "        'y[m]': y-yanalytic,\n",
    "        'v[m/s]': v,\n",
    "        'a[m/s^2]': a\n",
    "        }\n",
    "NewData = pd.DataFrame(data)\n",
    "display(NewData)\n",
    "#finally we plot the data\n",
    "fig, axs = plt.subplots(3, 1)\n",
    "axs[0].plot(t, y, t, yanalytic)\n",
    "axs[0].set_xlim(0, tfinal)\n",
    "axs[0].set_ylabel('y and exact')\n",
    "axs[1].plot(t, v)\n",
    "axs[1].set_ylabel('v[m/s]')\n",
    "axs[2].plot(t, a)\n",
    "axs[2].set_xlabel('time[s]')\n",
    "axs[2].set_ylabel('a[m/s^2]')\n",
    "fig.tight_layout()\n",
    "save_fig(\"EulerIntegration\")\n",
    "plt.show()"
   ]
  },
  {
   "cell_type": "markdown",
   "metadata": {},
   "source": [
    "Try different values for $\\Delta t$ and study the difference between the exact solution and the numerical solution.\n",
    "\n",
    "## Simple extension, the Euler-Cromer method\n",
    "\n",
    "The Euler-Cromer method is a simple variant of the standard Euler\n",
    "method. We use the newly updated velocity $v_{i+1}$ as an input to the\n",
    "new position, that is, instead of"
   ]
  },
  {
   "cell_type": "markdown",
   "metadata": {},
   "source": [
    "$$\n",
    "y_{i+1} = y_i+\\Delta t v_i,\n",
    "$$"
   ]
  },
  {
   "cell_type": "markdown",
   "metadata": {},
   "source": [
    "and"
   ]
  },
  {
   "cell_type": "markdown",
   "metadata": {},
   "source": [
    "$$\n",
    "v_{i+1} = v_i+\\Delta t a_i,\n",
    "$$"
   ]
  },
  {
   "cell_type": "markdown",
   "metadata": {},
   "source": [
    "we use now the newly calculate for $v_{i+1}$ as input to $y_{i+1}$, that is \n",
    "we compute first"
   ]
  },
  {
   "cell_type": "markdown",
   "metadata": {},
   "source": [
    "$$\n",
    "v_{i+1} = v_i+\\Delta t a_i,\n",
    "$$"
   ]
  },
  {
   "cell_type": "markdown",
   "metadata": {},
   "source": [
    "and then"
   ]
  },
  {
   "cell_type": "markdown",
   "metadata": {},
   "source": [
    "$$\n",
    "y_{i+1} = y_i+\\Delta t v_{i+1},\n",
    "$$"
   ]
  },
  {
   "cell_type": "markdown",
   "metadata": {},
   "source": [
    "Implementing the Euler-Cromer method yields a simple change to the previous code. We only need to change the following line in the loop over time\n",
    "steps"
   ]
  },
  {
   "cell_type": "code",
   "execution_count": null,
   "metadata": {},
   "outputs": [],
   "source": [
    "for i in range(n-1):\n",
    "    # more codes in between here\n",
    "    v[i+1] = v[i] + DeltaT*a[i]\n",
    "    y[i+1] = y[i] + DeltaT*v[i+1]\n",
    "    # more code"
   ]
  },
  {
   "cell_type": "markdown",
   "metadata": {},
   "source": [
    "## Newton's Laws\n",
    "\n",
    "Let us now remind ourselves of Newton's laws, since these are the laws of motion we will study in this course.\n",
    "\n",
    "\n",
    "When analyzing a physical system we normally start with distinguishing between the object we are studying (we will label this in more general terms as our **system**) and how this system interacts with the environment (which often means everything else!)\n",
    "\n",
    "In our investigations we will thus analyze a specific physics problem in terms of the system and the environment.\n",
    "In doing so we need to identify the forces that act on the system and assume that the\n",
    "forces acting on the system must have a source, an identifiable cause in\n",
    "the environment.\n",
    "\n",
    "A force acting on for example a falling object must be related to an interaction with something in the environment.\n",
    "This also means that we do not consider internal forces. The latter are forces between\n",
    "one part of the object and another part. In this course we will mainly focus on external forces.\n",
    "\n",
    "Forces are either contact forces or long-range forces.\n",
    "\n",
    "Contact forces, as evident from the name, are forces that occur at the contact between\n",
    "the system and the environment. Well-known long-range forces are the gravitional force and the electromagnetic force.\n",
    "\n",
    "\n",
    "## Setting up a model for forces acting on an object\n",
    "\n",
    "In order to set up the forces which act on an object, the following steps may be useful\n",
    "1. Divide the problem into system and environment.\n",
    "\n",
    "2. Draw a figure of the object and everything in contact with the object.\n",
    "\n",
    "3. Draw a closed curve around the system.\n",
    "\n",
    "4. Find contact points—these are the points where contact forces may act.\n",
    "\n",
    "5. Give names and symbols to all the contact forces.\n",
    "\n",
    "6. Identify the long-range forces.\n",
    "\n",
    "7. Make a drawing of the object. Draw the forces as arrows, vectors, starting from where the force is acting. The direction of the vector(s) indicates the (positive) direction of the force. Try to make the length of the arrow indicate the relative magnitude of the forces.\n",
    "\n",
    "8. Draw in the axes of the coordinate system. It is often convenient to make one axis parallel to the direction of motion. When you choose the direction of the axis you also choose the positive direction for the axis.\n",
    "\n",
    "## Newton's Laws, the Second one first\n",
    "\n",
    "\n",
    "Newton’s second law of motion: The force $\\boldsymbol{F}$ on an object of inertial mass $m$\n",
    "is related to the acceleration a of the object through"
   ]
  },
  {
   "cell_type": "markdown",
   "metadata": {},
   "source": [
    "$$\n",
    "\\boldsymbol{F} = m\\boldsymbol{a},\n",
    "$$"
   ]
  },
  {
   "cell_type": "markdown",
   "metadata": {},
   "source": [
    "where $\\boldsymbol{a}$ is the acceleration.\n",
    "\n",
    "Newton’s laws of motion are laws of nature that have been found by experimental\n",
    "investigations and have been shown to hold up to continued experimental investigations.\n",
    "Newton’s laws are valid over a wide range of length- and time-scales. We\n",
    "use Newton’s laws of motion to describe everything from the motion of atoms to the\n",
    "motion of galaxies.\n",
    "\n",
    "The second law is a vector equation with the acceleration having the same\n",
    "direction as the force. The acceleration is proportional to the force via the mass $m$ of the system under study.\n",
    "\n",
    "\n",
    "Newton’s second law introduces a new property of an object, the so-called \n",
    "inertial mass $m$. We determine the inertial mass of an object by measuring the\n",
    "acceleration for a given applied force.\n",
    "\n",
    "\n",
    "## Then the First Law\n",
    "\n",
    "\n",
    "What happens if the net external force on a body is zero? Applying Newton’s second\n",
    "law, we find:"
   ]
  },
  {
   "cell_type": "markdown",
   "metadata": {},
   "source": [
    "$$\n",
    "\\boldsymbol{F} = 0 = m\\boldsymbol{a},\n",
    "$$"
   ]
  },
  {
   "cell_type": "markdown",
   "metadata": {},
   "source": [
    "which gives using the definition of the acceleration"
   ]
  },
  {
   "cell_type": "markdown",
   "metadata": {},
   "source": [
    "$$\n",
    "\\boldsymbol{a} = \\frac{d\\boldsymbol{v}}{dt}=0.\n",
    "$$"
   ]
  },
  {
   "cell_type": "markdown",
   "metadata": {},
   "source": [
    "The acceleration is zero, which means that the velocity of the object is constant. This\n",
    "is often referred to as Newton’s first law. An object in a state of uniform motion tends to remain in\n",
    "that state unless an external force changes its state of motion.\n",
    "Why do we need a separate law for this? Is it not simply a special case of Newton’s\n",
    "second law? Yes, Newton’s first law can be deduced from the second law as we have\n",
    "illustrated. However, the first law is often used for a different purpose: Newton’s\n",
    "First Law tells us about the limit of applicability of Newton’s Second law. Newton’s\n",
    "Second law can only be used in reference systems where the First law is obeyed. But\n",
    "is not the First law always valid? No! The First law is only valid in reference systems\n",
    "that are not accelerated. If you observe the motion of a ball from an accelerating\n",
    "car, the ball will appear to accelerate even if there are no forces acting on it. We call\n",
    "systems that are not accelerating inertial systems, and Newton’s first law is often\n",
    "called the law of inertia. Newton’s first and second laws of motion are only valid in\n",
    "inertial systems. \n",
    "\n",
    "A system is an inertial system if it is not accelerated. It means that the reference system\n",
    "must not be accelerating linearly or rotating. Unfortunately, this means that most\n",
    "systems we know are not really inertial systems. For example, the surface of the\n",
    "Earth is clearly not an inertial system, because the Earth is rotating. The Earth is also\n",
    "not an inertial system, because it ismoving in a curved path around the Sun. However,\n",
    "even if the surface of the Earth is not strictly an inertial system, it may be considered\n",
    "to be approximately an inertial system for many laboratory-size experiments.\n",
    "\n",
    "## And finally the Third Law\n",
    "\n",
    "\n",
    "If there is a force from object A on object B, there is also a force from object B on object A.\n",
    "This fundamental principle of interactions is called Newton’s third law. We do not\n",
    "know of any force that do not obey this law: All forces appear in pairs. Newton’s\n",
    "third law is usually formulated as: For every action there is an equal and opposite\n",
    "reaction.\n",
    "\n",
    "\n",
    "## Motion of a Single Object\n",
    "\n",
    "Here we consider the motion of a single particle moving under\n",
    "the influence of some set of forces.  We will consider some problems where\n",
    "the force does not depend on the position. In that case Newton's law\n",
    "$m\\dot{\\boldsymbol{v}}=\\boldsymbol{F}(\\boldsymbol{v})$ is a first-order differential\n",
    "equation and one solves for $\\boldsymbol{v}(t)$, then moves on to integrate\n",
    "$\\boldsymbol{v}$ to get the position. In essentially all of these cases we cna find an analytical solution.\n",
    "\n",
    "\n",
    "## Air Resistance in One Dimension\n",
    "\n",
    "Air resistance tends to scale as the square of the velocity. This is\n",
    "in contrast to many problems chosen for textbooks, where it is linear\n",
    "in the velocity. The choice of a linear dependence is motivated by\n",
    "mathematical simplicity (it keeps the differential equation linear)\n",
    "rather than by physics. One can see that the force should be quadratic\n",
    "in velocity by considering the momentum imparted on the air\n",
    "molecules. If an object sweeps through a volume $dV$ of air in time\n",
    "$dt$, the momentum imparted on the air is"
   ]
  },
  {
   "cell_type": "markdown",
   "metadata": {},
   "source": [
    "<!-- Equation labels as ordinary links -->\n",
    "<div id=\"_auto1\"></div>\n",
    "\n",
    "$$\n",
    "\\begin{equation}\n",
    "dP=\\rho_m dV v,\n",
    "\\label{_auto1} \\tag{1}\n",
    "\\end{equation}\n",
    "$$"
   ]
  },
  {
   "cell_type": "markdown",
   "metadata": {},
   "source": [
    "where $v$ is the velocity of the object and $\\rho_m$ is the mass\n",
    "density of the air. If the molecules bounce back as opposed to stop\n",
    "you would double the size of the term. The opposite value of the\n",
    "momentum is imparted onto the object itself. Geometrically, the\n",
    "differential volume is"
   ]
  },
  {
   "cell_type": "markdown",
   "metadata": {},
   "source": [
    "<!-- Equation labels as ordinary links -->\n",
    "<div id=\"_auto2\"></div>\n",
    "\n",
    "$$\n",
    "\\begin{equation}\n",
    "dV=Avdt,\n",
    "\\label{_auto2} \\tag{2}\n",
    "\\end{equation}\n",
    "$$"
   ]
  },
  {
   "cell_type": "markdown",
   "metadata": {},
   "source": [
    "where $A$ is the cross-sectional area and $vdt$ is the distance the\n",
    "object moved in time $dt$.\n",
    "\n",
    "## Resulting Acceleration\n",
    "Plugging this into the expression above,"
   ]
  },
  {
   "cell_type": "markdown",
   "metadata": {},
   "source": [
    "<!-- Equation labels as ordinary links -->\n",
    "<div id=\"_auto3\"></div>\n",
    "\n",
    "$$\n",
    "\\begin{equation}\n",
    "\\frac{dP}{dt}=-\\rho_m A v^2.\n",
    "\\label{_auto3} \\tag{3}\n",
    "\\end{equation}\n",
    "$$"
   ]
  },
  {
   "cell_type": "markdown",
   "metadata": {},
   "source": [
    "This is the force felt by the particle, and is opposite to its\n",
    "direction of motion. Now, because air doesn't stop when it hits an\n",
    "object, but flows around the best it can, the actual force is reduced\n",
    "by a dimensionless factor $c_W$, called the drag coefficient."
   ]
  },
  {
   "cell_type": "markdown",
   "metadata": {},
   "source": [
    "<!-- Equation labels as ordinary links -->\n",
    "<div id=\"_auto4\"></div>\n",
    "\n",
    "$$\n",
    "\\begin{equation}\n",
    "F_{\\rm drag}=-c_W\\rho_m Av^2,\n",
    "\\label{_auto4} \\tag{4}\n",
    "\\end{equation}\n",
    "$$"
   ]
  },
  {
   "cell_type": "markdown",
   "metadata": {},
   "source": [
    "and the acceleration is"
   ]
  },
  {
   "cell_type": "markdown",
   "metadata": {},
   "source": [
    "$$\n",
    "\\begin{eqnarray}\n",
    "\\frac{dv}{dt}=-\\frac{c_W\\rho_mA}{m}v^2.\n",
    "\\end{eqnarray}\n",
    "$$"
   ]
  },
  {
   "cell_type": "markdown",
   "metadata": {},
   "source": [
    "For a particle with initial velocity $v_0$, one can separate the $dt$\n",
    "to one side of the equation, and move everything with $v$s to the\n",
    "other side. We did this in our discussion of simple motion and will not repeat it here.\n",
    "\n",
    "On more general terms,\n",
    "for many systems, e.g. an automobile, there are multiple sources of\n",
    "resistance. In addition to wind resistance, where the force is\n",
    "proportional to $v^2$, there are dissipative effects of the tires on\n",
    "the pavement, and in the axel and drive train. These other forces can\n",
    "have components that scale proportional to $v$, and components that\n",
    "are independent of $v$. Those independent of $v$, e.g. the usual\n",
    "$f=\\mu_K N$ frictional force you consider in your first Physics courses, only set in\n",
    "once the object is actually moving. As speeds become higher, the $v^2$\n",
    "components begin to dominate relative to the others. For automobiles\n",
    "at freeway speeds, the $v^2$ terms are largely responsible for the\n",
    "loss of efficiency. To travel a distance $L$ at fixed speed $v$, the\n",
    "energy/work required to overcome the dissipative forces are $fL$,\n",
    "which for a force of the form $f=\\alpha v^n$ becomes"
   ]
  },
  {
   "cell_type": "markdown",
   "metadata": {},
   "source": [
    "$$\n",
    "\\begin{eqnarray}\n",
    "W=\\int dx~f=\\alpha v^n L.\n",
    "\\end{eqnarray}\n",
    "$$"
   ]
  },
  {
   "cell_type": "markdown",
   "metadata": {},
   "source": [
    "For $n=0$ the work is\n",
    "independent of speed, but for the wind resistance, where $n=2$,\n",
    "slowing down is essential if one wishes to reduce fuel consumption. It\n",
    "is also important to consider that engines are designed to be most\n",
    "efficient at a chosen range of power output. Thus, some cars will get\n",
    "better mileage at higher speeds (They perform better at 50 mph than at\n",
    "5 mph) despite the considerations mentioned above.\n",
    "\n",
    "## Going Ballistic, Projectile Motion or a Softer Approach, Falling Raindrops\n",
    "\n",
    "\n",
    "As an example of Newton's Laws we consider projectile motion (or a\n",
    "falling raindrop or a ball we throw up in the air) with a drag force. Even though air resistance is\n",
    "largely proportional to the square of the velocity, we will consider\n",
    "the drag force to be linear to the velocity, $\\boldsymbol{F}=-m\\gamma\\boldsymbol{v}$,\n",
    "for the purposes of this exercise. The acceleration for a projectile moving upwards,\n",
    "$\\boldsymbol{a}=\\boldsymbol{F}/m$, becomes"
   ]
  },
  {
   "cell_type": "markdown",
   "metadata": {},
   "source": [
    "$$\n",
    "\\begin{eqnarray}\n",
    "\\frac{dv_x}{dt}=-\\gamma v_x,\\\\\n",
    "\\nonumber\n",
    "\\frac{dv_y}{dt}=-\\gamma v_y-g,\n",
    "\\end{eqnarray}\n",
    "$$"
   ]
  },
  {
   "cell_type": "markdown",
   "metadata": {},
   "source": [
    "and $\\gamma$ has dimensions of inverse time. \n",
    "\n",
    "If you on the other hand have a falling raindrop, how do these equations change? See for example Figure 2.1 in Taylor.\n",
    "Let us stay with a ball which is thrown up in the air at $t=0$. \n",
    "\n",
    "## Ways of solving these equations\n",
    "\n",
    "We will go over two different ways to solve this equation. The first\n",
    "by direct integration, and the second as a differential equation. To\n",
    "do this by direct integration, one simply multiplies both sides of the\n",
    "equations above by $dt$, then divide by the appropriate factors so\n",
    "that the $v$s are all on one side of the equation and the $dt$ is on\n",
    "the other. For the $x$ motion one finds an easily integrable equation,"
   ]
  },
  {
   "cell_type": "markdown",
   "metadata": {},
   "source": [
    "$$\n",
    "\\begin{eqnarray}\n",
    "\\frac{dv_x}{v_x}&=&-\\gamma dt,\\\\\n",
    "\\nonumber\n",
    "\\int_{v_{0x}}^{v_{x}}\\frac{dv_x}{v_x}&=&-\\gamma\\int_0^{t}dt,\\\\\n",
    "\\nonumber\n",
    "\\ln\\left(\\frac{v_{x}}{v_{0x}}\\right)&=&-\\gamma t,\\\\\n",
    "\\nonumber\n",
    "v_{x}(t)&=&v_{0x}e^{-\\gamma t}.\n",
    "\\end{eqnarray}\n",
    "$$"
   ]
  },
  {
   "cell_type": "markdown",
   "metadata": {},
   "source": [
    "This is very much the result you would have written down\n",
    "by inspection. For the $y$-component of the velocity,"
   ]
  },
  {
   "cell_type": "markdown",
   "metadata": {},
   "source": [
    "$$\n",
    "\\begin{eqnarray}\n",
    "\\frac{dv_y}{v_y+g/\\gamma}&=&-\\gamma dt\\\\\n",
    "\\nonumber\n",
    "\\ln\\left(\\frac{v_{y}+g/\\gamma}{v_{0y}-g/\\gamma}\\right)&=&-\\gamma t_f,\\\\\n",
    "\\nonumber\n",
    "v_{fy}&=&-\\frac{g}{\\gamma}+\\left(v_{0y}+\\frac{g}{\\gamma}\\right)e^{-\\gamma t}.\n",
    "\\end{eqnarray}\n",
    "$$"
   ]
  },
  {
   "cell_type": "markdown",
   "metadata": {},
   "source": [
    "Whereas $v_x$ starts at some value and decays\n",
    "exponentially to zero, $v_y$ decays exponentially to the terminal\n",
    "velocity, $v_t=-g/\\gamma$.\n",
    "\n",
    "## Solving as differential equations\n",
    "\n",
    "Although this direct integration is simpler than the method we invoke\n",
    "below, the method below will come in useful for some slightly more\n",
    "difficult differential equations in the future. The differential\n",
    "equation for $v_x$ is straight-forward to solve. Because it is first\n",
    "order there is one arbitrary constant, $A$, and by inspection the\n",
    "solution is"
   ]
  },
  {
   "cell_type": "markdown",
   "metadata": {},
   "source": [
    "<!-- Equation labels as ordinary links -->\n",
    "<div id=\"_auto5\"></div>\n",
    "\n",
    "$$\n",
    "\\begin{equation}\n",
    "v_x=Ae^{-\\gamma t}.\n",
    "\\label{_auto5} \\tag{5}\n",
    "\\end{equation}\n",
    "$$"
   ]
  },
  {
   "cell_type": "markdown",
   "metadata": {},
   "source": [
    "The arbitrary constants for equations of motion are usually determined\n",
    "by the initial conditions, or more generally boundary conditions. By\n",
    "inspection $A=v_{0x}$, the initial $x$ component of the velocity.\n",
    "\n",
    "\n",
    "## Differential Equations, contn\n",
    "The differential equation for $v_y$ is a bit more complicated due to\n",
    "the presence of $g$. Differential equations where all the terms are\n",
    "linearly proportional to a function, in this case $v_y$, or to\n",
    "derivatives of the function, e.g., $v_y$, $dv_y/dt$,\n",
    "$d^2v_y/dt^2\\cdots$, are called linear differential equations. If\n",
    "there are terms proportional to $v^2$, as would happen if the drag\n",
    "force were proportional to the square of the velocity, the\n",
    "differential equation is not longer linear. Because this expression\n",
    "has only one derivative in $v$ it is a first-order linear differential\n",
    "equation. If a term were added proportional to $d^2v/dt^2$ it would be\n",
    "a second-order differential equation.  In this case we have a term\n",
    "completely independent of $v$, the gravitational acceleration $g$, and\n",
    "the usual strategy is to first rewrite the equation with all the\n",
    "linear terms on one side of the equal sign,"
   ]
  },
  {
   "cell_type": "markdown",
   "metadata": {},
   "source": [
    "<!-- Equation labels as ordinary links -->\n",
    "<div id=\"_auto6\"></div>\n",
    "\n",
    "$$\n",
    "\\begin{equation}\n",
    "\\frac{dv_y}{dt}+\\gamma v_y=-g.\n",
    "\\label{_auto6} \\tag{6}\n",
    "\\end{equation}\n",
    "$$"
   ]
  },
  {
   "cell_type": "markdown",
   "metadata": {},
   "source": [
    "## Splitting into two parts\n",
    "\n",
    "Now, the solution to the equation can be broken into two\n",
    "parts. Because this is a first-order differential equation we know\n",
    "that there will be one arbitrary constant. Physically, the arbitrary\n",
    "constant will be determined by setting the initial velocity, though it\n",
    "could be determined by setting the velocity at any given time. Like\n",
    "most differential equations, solutions are not \"solved\". Instead,\n",
    "one guesses at a form, then shows the guess is correct. For these\n",
    "types of equations, one first tries to find a single solution,\n",
    "i.e. one with no arbitrary constants. This is called the {\\it\n",
    "particular} solution, $y_p(t)$, though it should really be called\n",
    "\"a\" particular solution because there are an infinite number of such\n",
    "solutions. One then finds a solution to the {\\it homogenous} equation,\n",
    "which is the equation with zero on the right-hand side,"
   ]
  },
  {
   "cell_type": "markdown",
   "metadata": {},
   "source": [
    "<!-- Equation labels as ordinary links -->\n",
    "<div id=\"_auto7\"></div>\n",
    "\n",
    "$$\n",
    "\\begin{equation}\n",
    "\\frac{dv_{y,h}}{dt}+\\gamma v_{y,h}=0.\n",
    "\\label{_auto7} \\tag{7}\n",
    "\\end{equation}\n",
    "$$"
   ]
  },
  {
   "cell_type": "markdown",
   "metadata": {},
   "source": [
    "Homogenous solutions will have arbitrary constants. \n",
    "\n",
    "The particular solution will solve the same equation as the original\n",
    "general equation"
   ]
  },
  {
   "cell_type": "markdown",
   "metadata": {},
   "source": [
    "<!-- Equation labels as ordinary links -->\n",
    "<div id=\"_auto8\"></div>\n",
    "\n",
    "$$\n",
    "\\begin{equation}\n",
    "\\frac{dv_{y,p}}{dt}+\\gamma v_{y,p}=-g.\n",
    "\\label{_auto8} \\tag{8}\n",
    "\\end{equation}\n",
    "$$"
   ]
  },
  {
   "cell_type": "markdown",
   "metadata": {},
   "source": [
    "However, we don't need find one with arbitrary constants. Hence, it is\n",
    "called a **particular** solution.\n",
    "\n",
    "The sum of the two,"
   ]
  },
  {
   "cell_type": "markdown",
   "metadata": {},
   "source": [
    "<!-- Equation labels as ordinary links -->\n",
    "<div id=\"_auto9\"></div>\n",
    "\n",
    "$$\n",
    "\\begin{equation}\n",
    "v_y=v_{y,p}+v_{y,h},\n",
    "\\label{_auto9} \\tag{9}\n",
    "\\end{equation}\n",
    "$$"
   ]
  },
  {
   "cell_type": "markdown",
   "metadata": {},
   "source": [
    "is a solution of the total equation because of the linear nature of\n",
    "the differential equation. One has now found a *general* solution\n",
    "encompassing all solutions, because it both satisfies the general\n",
    "equation (like the particular solution), and has an arbitrary constant\n",
    "that can be adjusted to fit any initial condition (like the homogneous\n",
    "solution). If the equation were not linear, e.g if there were a term\n",
    "such as $v_y^2$ or $v_y\\dot{v}_y$, this technique would not work.\n",
    "\n",
    "## More details\n",
    "\n",
    "Returning to the example above, the homogenous solution is the same as\n",
    "that for $v_x$, because there was no gravitational acceleration in\n",
    "that case,"
   ]
  },
  {
   "cell_type": "markdown",
   "metadata": {},
   "source": [
    "<!-- Equation labels as ordinary links -->\n",
    "<div id=\"_auto10\"></div>\n",
    "\n",
    "$$\n",
    "\\begin{equation}\n",
    "v_{y,h}=Be^{-\\gamma t}.\n",
    "\\label{_auto10} \\tag{10}\n",
    "\\end{equation}\n",
    "$$"
   ]
  },
  {
   "cell_type": "markdown",
   "metadata": {},
   "source": [
    "In this case a particular solution is one with constant velocity,"
   ]
  },
  {
   "cell_type": "markdown",
   "metadata": {},
   "source": [
    "<!-- Equation labels as ordinary links -->\n",
    "<div id=\"_auto11\"></div>\n",
    "\n",
    "$$\n",
    "\\begin{equation}\n",
    "v_{y,p}=-g/\\gamma.\n",
    "\\label{_auto11} \\tag{11}\n",
    "\\end{equation}\n",
    "$$"
   ]
  },
  {
   "cell_type": "markdown",
   "metadata": {},
   "source": [
    "Note that this is the terminal velocity of a particle falling from a\n",
    "great height. The general solution is thus,"
   ]
  },
  {
   "cell_type": "markdown",
   "metadata": {},
   "source": [
    "<!-- Equation labels as ordinary links -->\n",
    "<div id=\"_auto12\"></div>\n",
    "\n",
    "$$\n",
    "\\begin{equation}\n",
    "v_y=Be^{-\\gamma t}-g/\\gamma,\n",
    "\\label{_auto12} \\tag{12}\n",
    "\\end{equation}\n",
    "$$"
   ]
  },
  {
   "cell_type": "markdown",
   "metadata": {},
   "source": [
    "and one can find $B$ from the initial velocity,"
   ]
  },
  {
   "cell_type": "markdown",
   "metadata": {},
   "source": [
    "<!-- Equation labels as ordinary links -->\n",
    "<div id=\"_auto13\"></div>\n",
    "\n",
    "$$\n",
    "\\begin{equation}\n",
    "v_{0y}=B-g/\\gamma,~~~B=v_{0y}+g/\\gamma.\n",
    "\\label{_auto13} \\tag{13}\n",
    "\\end{equation}\n",
    "$$"
   ]
  },
  {
   "cell_type": "markdown",
   "metadata": {},
   "source": [
    "Plugging in the expression for $B$ gives the $y$ motion given the initial velocity,"
   ]
  },
  {
   "cell_type": "markdown",
   "metadata": {},
   "source": [
    "<!-- Equation labels as ordinary links -->\n",
    "<div id=\"_auto14\"></div>\n",
    "\n",
    "$$\n",
    "\\begin{equation}\n",
    "v_y=(v_{0y}+g/\\gamma)e^{-\\gamma t}-g/\\gamma.\n",
    "\\label{_auto14} \\tag{14}\n",
    "\\end{equation}\n",
    "$$"
   ]
  },
  {
   "cell_type": "markdown",
   "metadata": {},
   "source": [
    "It is easy to see that this solution has $v_y=v_{0y}$ when $t=0$ and\n",
    "$v_y=-g/\\gamma$ when $t\\rightarrow\\infty$.\n",
    "\n",
    "One can also integrate the two equations to find the coordinates $x$\n",
    "and $y$ as functions of $t$,"
   ]
  },
  {
   "cell_type": "markdown",
   "metadata": {},
   "source": [
    "$$\n",
    "\\begin{eqnarray}\n",
    "x&=&\\int_0^t dt'~v_{0x}(t')=\\frac{v_{0x}}{\\gamma}\\left(1-e^{-\\gamma t}\\right),\\\\\n",
    "\\nonumber\n",
    "y&=&\\int_0^t dt'~v_{0y}(t')=-\\frac{gt}{\\gamma}+\\frac{v_{0y}+g/\\gamma}{\\gamma}\\left(1-e^{-\\gamma t}\\right).\n",
    "\\end{eqnarray}\n",
    "$$"
   ]
  },
  {
   "cell_type": "markdown",
   "metadata": {},
   "source": [
    "If the question was to find the position at a time $t$, we would be\n",
    "finished. However, the more common goal in a projectile equation\n",
    "problem is to find the range, i.e. the distance $x$ at which $y$\n",
    "returns to zero. For the case without a drag force this was much\n",
    "simpler. The solution for the $y$ coordinate would have been\n",
    "$y=v_{0y}t-gt^2/2$. One would solve for $t$ to make $y=0$, which would\n",
    "be $t=2v_{0y}/g$, then plug that value for $t$ into $x=v_{0x}t$ to\n",
    "find $x=2v_{0x}v_{0y}/g=v_0\\sin(2\\theta_0)/g$. One follows the same\n",
    "steps here, except that the expression for $y(t)$ is more\n",
    "complicated. Searching for the time where $y=0$, and we get"
   ]
  },
  {
   "cell_type": "markdown",
   "metadata": {},
   "source": [
    "<!-- Equation labels as ordinary links -->\n",
    "<div id=\"_auto15\"></div>\n",
    "\n",
    "$$\n",
    "\\begin{equation}\n",
    "0=-\\frac{gt}{\\gamma}+\\frac{v_{0y}+g/\\gamma}{\\gamma}\\left(1-e^{-\\gamma t}\\right).\n",
    "\\label{_auto15} \\tag{15}\n",
    "\\end{equation}\n",
    "$$"
   ]
  },
  {
   "cell_type": "markdown",
   "metadata": {},
   "source": [
    "This cannot be inverted into a simple expression $t=\\cdots$. Such\n",
    "expressions are known as \"transcendental equations\", and are not the\n",
    "rare instance, but are the norm. In the days before computers, one\n",
    "might plot the right-hand side of the above graphically as\n",
    "a function of time, then find the point where it crosses zero.\n",
    "\n",
    "Now, the most common way to solve for an equation of the above type\n",
    "would be to apply Newton's method numerically. This involves the\n",
    "following algorithm for finding solutions of some equation $F(t)=0$.\n",
    "\n",
    "1. First guess a value for the time, $t_{\\rm guess}$.\n",
    "\n",
    "2. Calculate $F$ and its derivative, $F(t_{\\rm guess})$ and $F'(t_{\\rm guess})$. \n",
    "\n",
    "3. Unless you guessed perfectly, $F\\ne 0$, and assuming that $\\Delta F\\approx F'\\Delta t$, one would choose \n",
    "\n",
    "4. $\\Delta t=-F(t_{\\rm guess})/F'(t_{\\rm guess})$.\n",
    "\n",
    "5. Now repeat step 1, but with $t_{\\rm guess}\\rightarrow t_{\\rm guess}+\\Delta t$.\n",
    "\n",
    "If the $F(t)$ were perfectly linear in $t$, one would find $t$ in one\n",
    "step. Instead, one typically finds a value of $t$ that is closer to\n",
    "the final answer than $t_{\\rm guess}$. One breaks the loop once one\n",
    "finds $F$ within some acceptable tolerance of zero. A program to do\n",
    "this will be added shortly.\n",
    "\n",
    "## Motion in a Magnetic Field\n",
    "\n",
    "\n",
    "Another example of a velocity-dependent force is magnetism,"
   ]
  },
  {
   "cell_type": "markdown",
   "metadata": {},
   "source": [
    "$$\n",
    "\\begin{eqnarray}\n",
    "\\boldsymbol{F}&=&q\\boldsymbol{v}\\times\\boldsymbol{B},\\\\\n",
    "\\nonumber\n",
    "F_i&=&q\\sum_{jk}\\epsilon_{ijk}v_jB_k.\n",
    "\\end{eqnarray}\n",
    "$$"
   ]
  },
  {
   "cell_type": "markdown",
   "metadata": {},
   "source": [
    "For a uniform field in the $z$ direction $\\boldsymbol{B}=B\\hat{z}$, the force can only have $x$ and $y$ components,"
   ]
  },
  {
   "cell_type": "markdown",
   "metadata": {},
   "source": [
    "$$\n",
    "\\begin{eqnarray}\n",
    "F_x&=&qBv_y\\\\\n",
    "\\nonumber\n",
    "F_y&=&-qBv_x.\n",
    "\\end{eqnarray}\n",
    "$$"
   ]
  },
  {
   "cell_type": "markdown",
   "metadata": {},
   "source": [
    "The differential equations are"
   ]
  },
  {
   "cell_type": "markdown",
   "metadata": {},
   "source": [
    "$$\n",
    "\\begin{eqnarray}\n",
    "\\dot{v}_x&=&\\omega_c v_y,\\omega_c= qB/m\\\\\n",
    "\\nonumber\n",
    "\\dot{v}_y&=&-\\omega_c v_x.\n",
    "\\end{eqnarray}\n",
    "$$"
   ]
  },
  {
   "cell_type": "markdown",
   "metadata": {},
   "source": [
    "One can solve the equations by taking time derivatives of either equation, then substituting into the other equation,"
   ]
  },
  {
   "cell_type": "markdown",
   "metadata": {},
   "source": [
    "$$\n",
    "\\begin{eqnarray}\n",
    "\\ddot{v}_x=\\omega_c\\dot{v_y}=-\\omega_c^2v_x,\\\\\n",
    "\\nonumber\n",
    "\\ddot{v}_y&=&-\\omega_c\\dot{v}_x=-\\omega_cv_y.\n",
    "\\end{eqnarray}\n",
    "$$"
   ]
  },
  {
   "cell_type": "markdown",
   "metadata": {},
   "source": [
    "The solution to these equations can be seen by inspection,"
   ]
  },
  {
   "cell_type": "markdown",
   "metadata": {},
   "source": [
    "$$\n",
    "\\begin{eqnarray}\n",
    "v_x&=&A\\sin(\\omega_ct+\\phi),\\\\\n",
    "\\nonumber\n",
    "v_y&=&A\\cos(\\omega_ct+\\phi).\n",
    "\\end{eqnarray}\n",
    "$$"
   ]
  },
  {
   "cell_type": "markdown",
   "metadata": {},
   "source": [
    "One can integrate the equations to find the positions as a function of time,"
   ]
  },
  {
   "cell_type": "markdown",
   "metadata": {},
   "source": [
    "$$\n",
    "\\begin{eqnarray}\n",
    "x-x_0&=&\\int_{x_0}^x dx=\\int_0^t dt v(t)\\\\\n",
    "\\nonumber\n",
    "&=&\\frac{-A}{\\omega_c}\\cos(\\omega_ct+\\phi),\\\\\n",
    "\\nonumber\n",
    "y-y_0&=&\\frac{A}{\\omega_c}\\sin(\\omega_ct+\\phi).\n",
    "\\end{eqnarray}\n",
    "$$"
   ]
  },
  {
   "cell_type": "markdown",
   "metadata": {},
   "source": [
    "The trajectory is a circle centered at $x_0,y_0$ with amplitude $A$ rotating in the clockwise direction.\n",
    "\n",
    "The equations of motion for the $z$ motion are"
   ]
  },
  {
   "cell_type": "markdown",
   "metadata": {},
   "source": [
    "<!-- Equation labels as ordinary links -->\n",
    "<div id=\"_auto16\"></div>\n",
    "\n",
    "$$\n",
    "\\begin{equation}\n",
    "\\dot{v_z}=0,\n",
    "\\label{_auto16} \\tag{16}\n",
    "\\end{equation}\n",
    "$$"
   ]
  },
  {
   "cell_type": "markdown",
   "metadata": {},
   "source": [
    "which leads to"
   ]
  },
  {
   "cell_type": "markdown",
   "metadata": {},
   "source": [
    "<!-- Equation labels as ordinary links -->\n",
    "<div id=\"_auto17\"></div>\n",
    "\n",
    "$$\n",
    "\\begin{equation}\n",
    "z-z_0=V_zt.\n",
    "\\label{_auto17} \\tag{17}\n",
    "\\end{equation}\n",
    "$$"
   ]
  },
  {
   "cell_type": "markdown",
   "metadata": {},
   "source": [
    "Added onto the circle, the motion is helical.\n",
    "\n",
    "Note that the kinetic energy,"
   ]
  },
  {
   "cell_type": "markdown",
   "metadata": {},
   "source": [
    "<!-- Equation labels as ordinary links -->\n",
    "<div id=\"_auto18\"></div>\n",
    "\n",
    "$$\n",
    "\\begin{equation}\n",
    "T=\\frac{1}{2}m(v_x^2+v_y^2+v_z^2)=\\frac{1}{2}m(\\omega_c^2A^2+V_z^2),\n",
    "\\label{_auto18} \\tag{18}\n",
    "\\end{equation}\n",
    "$$"
   ]
  },
  {
   "cell_type": "markdown",
   "metadata": {},
   "source": [
    "is constant. This is because the force is perpendicular to the\n",
    "velocity, so that in any differential time element $dt$ the work done\n",
    "on the particle $\\boldsymbol{F}\\cdot{dr}=dt\\boldsymbol{F}\\cdot{v}=0$.\n",
    "\n",
    "One should think about the implications of a velocity dependent\n",
    "force. Suppose one had a constant magnetic field in deep space. If a\n",
    "particle came through with velocity $v_0$, it would undergo cyclotron\n",
    "motion with radius $R=v_0/\\omega_c$. However, if it were still its\n",
    "motion would remain fixed. Now, suppose an observer looked at the\n",
    "particle in one reference frame where the particle was moving, then\n",
    "changed their velocity so that the particle's velocity appeared to be\n",
    "zero. The motion would change from circular to fixed. Is this\n",
    "possible?\n",
    "\n",
    "The solution to the puzzle above relies on understanding\n",
    "relativity. Imagine that the first observer believes $\\boldsymbol{B}\\ne 0$ and\n",
    "that the electric field $\\boldsymbol{E}=0$. If the observer then changes\n",
    "reference frames by accelerating to a velocity $\\boldsymbol{v}$, in the new\n",
    "frame $\\boldsymbol{B}$ and $\\boldsymbol{E}$ both change. If the observer moved to the\n",
    "frame where the charge, originally moving with a small velocity $v$,\n",
    "is now at rest, the new electric field is indeed $\\boldsymbol{v}\\times\\boldsymbol{B}$,\n",
    "which then leads to the same acceleration as one had before. If the\n",
    "velocity is not small compared to the speed of light, additional\n",
    "$\\gamma$ factors come into play,\n",
    "$\\gamma=1/\\sqrt{1-(v/c)^2}$. Relativistic motion will not be\n",
    "considered in this course.\n",
    "\n",
    "\n",
    "\n",
    "## Sliding Block tied to a Wall\n",
    "\n",
    "Another classical case is that of simple harmonic oscillations, here represented by a block sliding on a horizontal frictionless surface. The block is tied to a wall with a spring. If the spring is not compressed or stretched too far, the force on the block at a given position $x$ is"
   ]
  },
  {
   "cell_type": "markdown",
   "metadata": {},
   "source": [
    "$$\n",
    "F=-kx.\n",
    "$$"
   ]
  },
  {
   "cell_type": "markdown",
   "metadata": {},
   "source": [
    "The negative sign means that the force acts to restore the object to an equilibrium position. Newton's equation of motion for this idealized system is then"
   ]
  },
  {
   "cell_type": "markdown",
   "metadata": {},
   "source": [
    "$$\n",
    "m\\frac{d^2x}{dt^2}=-kx,\n",
    "$$"
   ]
  },
  {
   "cell_type": "markdown",
   "metadata": {},
   "source": [
    "or we could rephrase it as"
   ]
  },
  {
   "cell_type": "markdown",
   "metadata": {},
   "source": [
    "<!-- Equation labels as ordinary links -->\n",
    "<div id=\"eq:newton1\"></div>\n",
    "\n",
    "$$\n",
    "\\frac{d^2x}{dt^2}=-\\frac{k}{m}x=-\\omega_0^2x,\n",
    "\\label{eq:newton1} \\tag{19}\n",
    "$$"
   ]
  },
  {
   "cell_type": "markdown",
   "metadata": {},
   "source": [
    "with the angular frequency $\\omega_0^2=k/m$. \n",
    "\n",
    "The above differential equation has the advantage that it can be solved  analytically with solutions on the form"
   ]
  },
  {
   "cell_type": "markdown",
   "metadata": {},
   "source": [
    "$$\n",
    "x(t)=Acos(\\omega_0t+\\nu),\n",
    "$$"
   ]
  },
  {
   "cell_type": "markdown",
   "metadata": {},
   "source": [
    "where $A$ is the amplitude and $\\nu$ the phase constant.   This provides in turn an important test for the numerical\n",
    "solution and the development of a program for more complicated cases which cannot be solved analytically. \n",
    "\n",
    "\n",
    "\n",
    "## Simple Example, Block tied to a Wall\n",
    "\n",
    "With the position $x(t)$ and the velocity  $v(t)=dx/dt$ we can reformulate Newton's equation in the following way"
   ]
  },
  {
   "cell_type": "markdown",
   "metadata": {},
   "source": [
    "$$\n",
    "\\frac{dx(t)}{dt}=v(t),\n",
    "$$"
   ]
  },
  {
   "cell_type": "markdown",
   "metadata": {},
   "source": [
    "and"
   ]
  },
  {
   "cell_type": "markdown",
   "metadata": {},
   "source": [
    "$$\n",
    "\\frac{dv(t)}{dt}=-\\omega_0^2x(t).\n",
    "$$"
   ]
  },
  {
   "cell_type": "markdown",
   "metadata": {},
   "source": [
    "We are now going to solve these equations using first the standard forward Euler  method. Later we will try to improve upon this.\n",
    "\n",
    "\n",
    "## Simple Example, Block tied to a Wall\n",
    "\n",
    "Before proceeding however, it is important to note that in addition to the exact solution, we have at least two further tests which can be used to check our solution. \n",
    "\n",
    "Since functions like $cos$ are periodic with a period $2\\pi$, then the solution $x(t)$ has also to be periodic. This means that"
   ]
  },
  {
   "cell_type": "markdown",
   "metadata": {},
   "source": [
    "$$\n",
    "x(t+T)=x(t),\n",
    "$$"
   ]
  },
  {
   "cell_type": "markdown",
   "metadata": {},
   "source": [
    "with $T$ the period defined as"
   ]
  },
  {
   "cell_type": "markdown",
   "metadata": {},
   "source": [
    "$$\n",
    "T=\\frac{2\\pi}{\\omega_0}=\\frac{2\\pi}{\\sqrt{k/m}}.\n",
    "$$"
   ]
  },
  {
   "cell_type": "markdown",
   "metadata": {},
   "source": [
    "Observe that $T$ depends only on $k/m$ and not on the amplitude of the solution. \n",
    "\n",
    "\n",
    "## Simple Example, Block tied to a Wall\n",
    "\n",
    "In addition to the periodicity test, the total energy has also to be conserved. \n",
    "\n",
    "Suppose we choose the initial conditions"
   ]
  },
  {
   "cell_type": "markdown",
   "metadata": {},
   "source": [
    "$$\n",
    "x(t=0)=1\\hspace{0.1cm} \\mathrm{m}\\hspace{1cm} v(t=0)=0\\hspace{0.1cm}\\mathrm{m/s},\n",
    "$$"
   ]
  },
  {
   "cell_type": "markdown",
   "metadata": {},
   "source": [
    "meaning that block is at rest at $t=0$ but with a potential energy"
   ]
  },
  {
   "cell_type": "markdown",
   "metadata": {},
   "source": [
    "$$\n",
    "E_0=\\frac{1}{2}kx(t=0)^2=\\frac{1}{2}k.\n",
    "$$"
   ]
  },
  {
   "cell_type": "markdown",
   "metadata": {},
   "source": [
    "The total energy at any time $t$ has however to be conserved, meaning that our solution has to fulfil the condition"
   ]
  },
  {
   "cell_type": "markdown",
   "metadata": {},
   "source": [
    "$$\n",
    "E_0=\\frac{1}{2}kx(t)^2+\\frac{1}{2}mv(t)^2.\n",
    "$$"
   ]
  },
  {
   "cell_type": "markdown",
   "metadata": {},
   "source": [
    "We will derive this equation in our discussion on [energy conservation](https://mhjensen.github.io/Physics321/doc/pub/energyconserv/html/energyconserv.html).\n",
    "\n",
    "## Simple Example, Block tied to a Wall\n",
    "\n",
    "An algorithm which implements these equations is included below.\n",
    " * Choose the initial position and speed, with the most common choice $v(t=0)=0$ and some fixed value for the position. \n",
    "\n",
    " * Choose the method you wish to employ in solving the problem.\n",
    "\n",
    " * Subdivide the time interval $[t_i,t_f] $ into a grid with step size"
   ]
  },
  {
   "cell_type": "markdown",
   "metadata": {},
   "source": [
    "$$\n",
    "h=\\frac{t_f-t_i}{N},\n",
    "$$"
   ]
  },
  {
   "cell_type": "markdown",
   "metadata": {},
   "source": [
    "where $N$ is the number of mesh points. \n",
    " * Calculate now the total energy given by"
   ]
  },
  {
   "cell_type": "markdown",
   "metadata": {},
   "source": [
    "$$\n",
    "E_0=\\frac{1}{2}kx(t=0)^2=\\frac{1}{2}k.\n",
    "$$"
   ]
  },
  {
   "cell_type": "markdown",
   "metadata": {},
   "source": [
    "* Choose ODE solver to obtain $x_{i+1}$ and $v_{i+1}$ starting from the previous values $x_i$ and $v_i$.\n",
    "\n",
    " * When we have computed $x(v)_{i+1}$ we upgrade  $t_{i+1}=t_i+h$.\n",
    "\n",
    " * This iterative  process continues till we reach the maximum time $t_f$.\n",
    "\n",
    " * The results are checked against the exact solution. Furthermore, one has to check the stability of the numerical solution against the chosen number of mesh points $N$.      \n",
    "\n",
    "## Simple Example, Block tied to a Wall, python code\n",
    "\n",
    "The following python program ( code will be added shortly)"
   ]
  },
  {
   "cell_type": "code",
   "execution_count": null,
   "metadata": {},
   "outputs": [],
   "source": [
    "#\n",
    "# This program solves Newtons equation for a block sliding on\n",
    "# an horizontal frictionless surface.\n",
    "# The block is tied to the wall with a spring, so N's eq takes the form:\n",
    "#\n",
    "#  m d^2x/dt^2 = - kx\n",
    "#\n",
    "# In order to make the solution dimless, we set k/m = 1.\n",
    "# This results in two coupled diff. eq's that may be written as:\n",
    "#\n",
    "#  dx/dt = v\n",
    "#  dv/dt = -x\n",
    "#\n",
    "# The user has to specify the initial velocity and position,\n",
    "# and the number of steps. The time interval is fixed to\n",
    "# t \\in [0, 4\\pi) (two periods)\n",
    "#"
   ]
  }
 ],
 "metadata": {
  "kernelspec": {
   "display_name": "Python 3",
   "language": "python",
   "name": "python3"
  },
  "language_info": {
   "codemirror_mode": {
    "name": "ipython",
    "version": 3
   },
   "file_extension": ".py",
   "mimetype": "text/x-python",
   "name": "python",
   "nbconvert_exporter": "python",
   "pygments_lexer": "ipython3",
   "version": "3.6.8"
  }
 },
 "nbformat": 4,
 "nbformat_minor": 4
}

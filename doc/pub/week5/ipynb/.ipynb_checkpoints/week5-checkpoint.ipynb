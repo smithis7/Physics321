{
 "cells": [
  {
   "cell_type": "markdown",
   "metadata": {},
   "source": [
    "<!-- dom:TITLE: PHY321: More on Motion and Forces, begin Work and Energy  discussion -->\n",
    "# PHY321: More on Motion and Forces, begin Work and Energy  discussion\n",
    "<!-- dom:AUTHOR: [Morten Hjorth-Jensen](http://mhjgit.github.io/info/doc/web/) at Department of Physics and Astronomy and Facility for Rare Ion Beams (FRIB), Michigan State University, USA & Department of Physics, University of Oslo, Norway -->\n",
    "<!-- Author: -->  \n",
    "**[Morten Hjorth-Jensen](http://mhjgit.github.io/info/doc/web/)**, Department of Physics and Astronomy and Facility for Rare Ion Beams (FRIB), Michigan State University, USA and Department of Physics, University of Oslo, Norway\n",
    "\n",
    "Date: **Feb 3, 2021**\n",
    "\n",
    "Copyright 1999-2021, [Morten Hjorth-Jensen](http://mhjgit.github.io/info/doc/web/). Released under CC Attribution-NonCommercial 4.0 license\n",
    "\n",
    "\n",
    "\n",
    "\n",
    "## Aims and Overarching Motivation\n",
    "\n",
    "### Monday\n",
    "\n",
    "We discuss various forces and their pertinent equations of motion\n",
    "\n",
    "Recommended reading: Taylor 2.1-2.4. Malthe-Sørenssen chapter 6-7 contains many examples.\n",
    "We will cover in particular a falling object in two dimensions with linear air resistance relevant for homework 3. \n",
    "\n",
    "### Wednesday\n",
    "\n",
    "We discuss other force models with examples such as the gravitational\n",
    "force and a spring force. See Malthe-Sørenssen chapter 7.3-7.5. We\n",
    "start our discussion of energy and work, see Taylor 4.1\n",
    "\n",
    "We discuss also exercise 5 from homework 2.\n",
    "\n",
    "### Friday\n",
    "\n",
    "We discuss several examples of energy and work. Taylor 4.1-4.3.\n",
    "\n",
    "\n",
    "\n",
    "\n",
    "\n",
    "\n",
    "## Air Resistance in One Dimension\n",
    "\n",
    "Last week we considered the motion of a falling object with air\n",
    "resistance. Here we look at both a quadratic in velocity resistance\n",
    "and linear in velocity.  But first we give a qualitative argument\n",
    "about the mathematical expression for the air resistance we used last\n",
    "Friday.\n",
    "\n",
    "\n",
    "Air resistance tends to scale as the square of the velocity. This is\n",
    "in contrast to many problems chosen for textbooks, where it is linear\n",
    "in the velocity. The choice of a linear dependence is motivated by\n",
    "mathematical simplicity (it keeps the differential equation linear)\n",
    "rather than by physics. One can see that the force should be quadratic\n",
    "in velocity by considering the momentum imparted on the air\n",
    "molecules. If an object sweeps through a volume $dV$ of air in time\n",
    "$dt$, the momentum imparted on the air is"
   ]
  },
  {
   "cell_type": "markdown",
   "metadata": {},
   "source": [
    "<!-- Equation labels as ordinary links -->\n",
    "<div id=\"_auto1\"></div>\n",
    "\n",
    "$$\n",
    "\\begin{equation}\n",
    "dP=\\rho_m dV v,\n",
    "\\label{_auto1} \\tag{1}\n",
    "\\end{equation}\n",
    "$$"
   ]
  },
  {
   "cell_type": "markdown",
   "metadata": {},
   "source": [
    "where $v$ is the velocity of the object and $\\rho_m$ is the mass\n",
    "density of the air. If the molecules bounce back as opposed to stop\n",
    "you would double the size of the term. The opposite value of the\n",
    "momentum is imparted onto the object itself. Geometrically, the\n",
    "differential volume is"
   ]
  },
  {
   "cell_type": "markdown",
   "metadata": {},
   "source": [
    "<!-- Equation labels as ordinary links -->\n",
    "<div id=\"_auto2\"></div>\n",
    "\n",
    "$$\n",
    "\\begin{equation}\n",
    "dV=Avdt,\n",
    "\\label{_auto2} \\tag{2}\n",
    "\\end{equation}\n",
    "$$"
   ]
  },
  {
   "cell_type": "markdown",
   "metadata": {},
   "source": [
    "where $A$ is the cross-sectional area and $vdt$ is the distance the\n",
    "object moved in time $dt$.\n",
    "\n",
    "## Resulting Acceleration\n",
    "Plugging this into the expression above,"
   ]
  },
  {
   "cell_type": "markdown",
   "metadata": {},
   "source": [
    "<!-- Equation labels as ordinary links -->\n",
    "<div id=\"_auto3\"></div>\n",
    "\n",
    "$$\n",
    "\\begin{equation}\n",
    "\\frac{dP}{dt}=-\\rho_m A v^2.\n",
    "\\label{_auto3} \\tag{3}\n",
    "\\end{equation}\n",
    "$$"
   ]
  },
  {
   "cell_type": "markdown",
   "metadata": {},
   "source": [
    "This is the force felt by the particle, and is opposite to its\n",
    "direction of motion. Now, because air doesn't stop when it hits an\n",
    "object, but flows around the best it can, the actual force is reduced\n",
    "by a dimensionless factor $c_W$, called the drag coefficient."
   ]
  },
  {
   "cell_type": "markdown",
   "metadata": {},
   "source": [
    "<!-- Equation labels as ordinary links -->\n",
    "<div id=\"_auto4\"></div>\n",
    "\n",
    "$$\n",
    "\\begin{equation}\n",
    "F_{\\rm drag}=-c_W\\rho_m Av^2,\n",
    "\\label{_auto4} \\tag{4}\n",
    "\\end{equation}\n",
    "$$"
   ]
  },
  {
   "cell_type": "markdown",
   "metadata": {},
   "source": [
    "and the acceleration is"
   ]
  },
  {
   "cell_type": "markdown",
   "metadata": {},
   "source": [
    "$$\n",
    "\\begin{eqnarray}\n",
    "\\frac{dv}{dt}=-\\frac{c_W\\rho_mA}{m}v^2.\n",
    "\\end{eqnarray}\n",
    "$$"
   ]
  },
  {
   "cell_type": "markdown",
   "metadata": {},
   "source": [
    "For a particle with initial velocity $v_0$, one can separate the $dt$\n",
    "to one side of the equation, and move everything with $v$s to the\n",
    "other side. We did this in our discussion of simple motion and will not repeat it here.\n",
    "\n",
    "On more general terms,\n",
    "for many systems, e.g. an automobile, there are multiple sources of\n",
    "resistance. In addition to wind resistance, where the force is\n",
    "proportional to $v^2$, there are dissipative effects of the tires on\n",
    "the pavement, and in the axel and drive train. These other forces can\n",
    "have components that scale proportional to $v$, and components that\n",
    "are independent of $v$. Those independent of $v$, e.g. the usual\n",
    "$f=\\mu_K N$ frictional force you consider in your first Physics courses, only set in\n",
    "once the object is actually moving. As speeds become higher, the $v^2$\n",
    "components begin to dominate relative to the others. For automobiles\n",
    "at freeway speeds, the $v^2$ terms are largely responsible for the\n",
    "loss of efficiency. To travel a distance $L$ at fixed speed $v$, the\n",
    "energy/work required to overcome the dissipative forces are $fL$,\n",
    "which for a force of the form $f=\\alpha v^n$ becomes"
   ]
  },
  {
   "cell_type": "markdown",
   "metadata": {},
   "source": [
    "$$\n",
    "\\begin{eqnarray}\n",
    "W=\\int dx~f=\\alpha v^n L.\n",
    "\\end{eqnarray}\n",
    "$$"
   ]
  },
  {
   "cell_type": "markdown",
   "metadata": {},
   "source": [
    "For $n=0$ the work is\n",
    "independent of speed, but for the wind resistance, where $n=2$,\n",
    "slowing down is essential if one wishes to reduce fuel consumption. It\n",
    "is also important to consider that engines are designed to be most\n",
    "efficient at a chosen range of power output. Thus, some cars will get\n",
    "better mileage at higher speeds (They perform better at 50 mph than at\n",
    "5 mph) despite the considerations mentioned above.\n",
    "\n",
    "## Going Ballistic, Projectile Motion or a Softer Approach, Falling Raindrops\n",
    "\n",
    "\n",
    "As an example of Newton's Laws we consider projectile motion (or a\n",
    "falling raindrop or a ball we throw up in the air) with a drag force. Even though air resistance is\n",
    "largely proportional to the square of the velocity, we will consider\n",
    "the drag force to be linear to the velocity, $\\boldsymbol{F}=-m\\gamma\\boldsymbol{v}$,\n",
    "for the purposes of this exercise.\n",
    "\n",
    "Such a dependence can be extracted from experimental data for objects moving at low velocities, see for example Malthe-Sørenssen chapter 5.6.\n",
    "\n",
    "We will here focus on a two-dimensional problem.\n",
    "\n",
    "## Two-dimensional falling object\n",
    "\n",
    "The acceleration for a projectile moving upwards,\n",
    "$\\boldsymbol{a}=\\boldsymbol{F}/m$, becomes"
   ]
  },
  {
   "cell_type": "markdown",
   "metadata": {},
   "source": [
    "$$\n",
    "\\begin{eqnarray}\n",
    "\\frac{dv_x}{dt}=-\\gamma v_x,\\\\\n",
    "\\nonumber\n",
    "\\frac{dv_y}{dt}=-\\gamma v_y-g,\n",
    "\\end{eqnarray}\n",
    "$$"
   ]
  },
  {
   "cell_type": "markdown",
   "metadata": {},
   "source": [
    "and $\\gamma$ has dimensions of inverse time. \n",
    "\n",
    "If you on the other hand have a falling raindrop, how do these equations change? See for example Figure 2.1 in Taylor.\n",
    "Let us stay with a ball which is thrown up in the air at $t=0$. \n",
    "\n",
    "## Ways of solving these equations\n",
    "\n",
    "We will go over two different ways to solve this equation. The first\n",
    "by direct integration, and the second as a differential equation. To\n",
    "do this by direct integration, one simply multiplies both sides of the\n",
    "equations above by $dt$, then divide by the appropriate factors so\n",
    "that the $v$s are all on one side of the equation and the $dt$ is on\n",
    "the other. For the $x$ motion one finds an easily integrable equation,"
   ]
  },
  {
   "cell_type": "markdown",
   "metadata": {},
   "source": [
    "$$\n",
    "\\begin{eqnarray}\n",
    "\\frac{dv_x}{v_x}&=&-\\gamma dt,\\\\\n",
    "\\nonumber\n",
    "\\int_{v_{0x}}^{v_{x}}\\frac{dv_x}{v_x}&=&-\\gamma\\int_0^{t}dt,\\\\\n",
    "\\nonumber\n",
    "\\ln\\left(\\frac{v_{x}}{v_{0x}}\\right)&=&-\\gamma t,\\\\\n",
    "\\nonumber\n",
    "v_{x}(t)&=&v_{0x}e^{-\\gamma t}.\n",
    "\\end{eqnarray}\n",
    "$$"
   ]
  },
  {
   "cell_type": "markdown",
   "metadata": {},
   "source": [
    "This is very much the result you would have written down\n",
    "by inspection. For the $y$-component of the velocity,"
   ]
  },
  {
   "cell_type": "markdown",
   "metadata": {},
   "source": [
    "$$\n",
    "\\begin{eqnarray}\n",
    "\\frac{dv_y}{v_y+g/\\gamma}&=&-\\gamma dt\\\\\n",
    "\\nonumber\n",
    "\\ln\\left(\\frac{v_{y}+g/\\gamma}{v_{0y}-g/\\gamma}\\right)&=&-\\gamma t_f,\\\\\n",
    "\\nonumber\n",
    "v_{fy}&=&-\\frac{g}{\\gamma}+\\left(v_{0y}+\\frac{g}{\\gamma}\\right)e^{-\\gamma t}.\n",
    "\\end{eqnarray}\n",
    "$$"
   ]
  },
  {
   "cell_type": "markdown",
   "metadata": {},
   "source": [
    "Whereas $v_x$ starts at some value and decays\n",
    "exponentially to zero, $v_y$ decays exponentially to the terminal\n",
    "velocity, $v_t=-g/\\gamma$.\n",
    "\n",
    "## Solving as differential equations\n",
    "\n",
    "Although this direct integration is simpler than the method we invoke\n",
    "below, the method below will come in useful for some slightly more\n",
    "difficult differential equations in the future. The differential\n",
    "equation for $v_x$ is straight-forward to solve. Because it is first\n",
    "order there is one arbitrary constant, $A$, and by inspection the\n",
    "solution is"
   ]
  },
  {
   "cell_type": "markdown",
   "metadata": {},
   "source": [
    "<!-- Equation labels as ordinary links -->\n",
    "<div id=\"_auto5\"></div>\n",
    "\n",
    "$$\n",
    "\\begin{equation}\n",
    "v_x=Ae^{-\\gamma t}.\n",
    "\\label{_auto5} \\tag{5}\n",
    "\\end{equation}\n",
    "$$"
   ]
  },
  {
   "cell_type": "markdown",
   "metadata": {},
   "source": [
    "The arbitrary constants for equations of motion are usually determined\n",
    "by the initial conditions, or more generally boundary conditions. By\n",
    "inspection $A=v_{0x}$, the initial $x$ component of the velocity.\n",
    "\n",
    "\n",
    "## Differential Equations, contn\n",
    "The differential equation for $v_y$ is a bit more complicated due to\n",
    "the presence of $g$. Differential equations where all the terms are\n",
    "linearly proportional to a function, in this case $v_y$, or to\n",
    "derivatives of the function, e.g., $v_y$, $dv_y/dt$,\n",
    "$d^2v_y/dt^2\\cdots$, are called linear differential equations. If\n",
    "there are terms proportional to $v^2$, as would happen if the drag\n",
    "force were proportional to the square of the velocity, the\n",
    "differential equation is not longer linear. Because this expression\n",
    "has only one derivative in $v$ it is a first-order linear differential\n",
    "equation. If a term were added proportional to $d^2v/dt^2$ it would be\n",
    "a second-order differential equation.  In this case we have a term\n",
    "completely independent of $v$, the gravitational acceleration $g$, and\n",
    "the usual strategy is to first rewrite the equation with all the\n",
    "linear terms on one side of the equal sign,"
   ]
  },
  {
   "cell_type": "markdown",
   "metadata": {},
   "source": [
    "<!-- Equation labels as ordinary links -->\n",
    "<div id=\"_auto6\"></div>\n",
    "\n",
    "$$\n",
    "\\begin{equation}\n",
    "\\frac{dv_y}{dt}+\\gamma v_y=-g.\n",
    "\\label{_auto6} \\tag{6}\n",
    "\\end{equation}\n",
    "$$"
   ]
  },
  {
   "cell_type": "markdown",
   "metadata": {},
   "source": [
    "## Splitting into two parts\n",
    "\n",
    "Now, the solution to the equation can be broken into two\n",
    "parts. Because this is a first-order differential equation we know\n",
    "that there will be one arbitrary constant. Physically, the arbitrary\n",
    "constant will be determined by setting the initial velocity, though it\n",
    "could be determined by setting the velocity at any given time. Like\n",
    "most differential equations, solutions are not \"solved\". Instead,\n",
    "one guesses at a form, then shows the guess is correct. For these\n",
    "types of equations, one first tries to find a single solution,\n",
    "i.e. one with no arbitrary constants. This is called the {\\it\n",
    "particular} solution, $y_p(t)$, though it should really be called\n",
    "\"a\" particular solution because there are an infinite number of such\n",
    "solutions. One then finds a solution to the {\\it homogenous} equation,\n",
    "which is the equation with zero on the right-hand side,"
   ]
  },
  {
   "cell_type": "markdown",
   "metadata": {},
   "source": [
    "<!-- Equation labels as ordinary links -->\n",
    "<div id=\"_auto7\"></div>\n",
    "\n",
    "$$\n",
    "\\begin{equation}\n",
    "\\frac{dv_{y,h}}{dt}+\\gamma v_{y,h}=0.\n",
    "\\label{_auto7} \\tag{7}\n",
    "\\end{equation}\n",
    "$$"
   ]
  },
  {
   "cell_type": "markdown",
   "metadata": {},
   "source": [
    "Homogenous solutions will have arbitrary constants. \n",
    "\n",
    "The particular solution will solve the same equation as the original\n",
    "general equation"
   ]
  },
  {
   "cell_type": "markdown",
   "metadata": {},
   "source": [
    "<!-- Equation labels as ordinary links -->\n",
    "<div id=\"_auto8\"></div>\n",
    "\n",
    "$$\n",
    "\\begin{equation}\n",
    "\\frac{dv_{y,p}}{dt}+\\gamma v_{y,p}=-g.\n",
    "\\label{_auto8} \\tag{8}\n",
    "\\end{equation}\n",
    "$$"
   ]
  },
  {
   "cell_type": "markdown",
   "metadata": {},
   "source": [
    "However, we don't need find one with arbitrary constants. Hence, it is\n",
    "called a **particular** solution.\n",
    "\n",
    "The sum of the two,"
   ]
  },
  {
   "cell_type": "markdown",
   "metadata": {},
   "source": [
    "<!-- Equation labels as ordinary links -->\n",
    "<div id=\"_auto9\"></div>\n",
    "\n",
    "$$\n",
    "\\begin{equation}\n",
    "v_y=v_{y,p}+v_{y,h},\n",
    "\\label{_auto9} \\tag{9}\n",
    "\\end{equation}\n",
    "$$"
   ]
  },
  {
   "cell_type": "markdown",
   "metadata": {},
   "source": [
    "is a solution of the total equation because of the linear nature of\n",
    "the differential equation. One has now found a *general* solution\n",
    "encompassing all solutions, because it both satisfies the general\n",
    "equation (like the particular solution), and has an arbitrary constant\n",
    "that can be adjusted to fit any initial condition (like the homogeneous\n",
    "solution). If the equations were not linear, that is if there were terms\n",
    "such as $v_y^2$ or $v_y\\dot{v}_y$, this technique would not work.\n",
    "\n",
    "## More details\n",
    "\n",
    "Returning to the example above, the homogenous solution is the same as\n",
    "that for $v_x$, because there was no gravitational acceleration in\n",
    "that case,"
   ]
  },
  {
   "cell_type": "markdown",
   "metadata": {},
   "source": [
    "<!-- Equation labels as ordinary links -->\n",
    "<div id=\"_auto10\"></div>\n",
    "\n",
    "$$\n",
    "\\begin{equation}\n",
    "v_{y,h}=Be^{-\\gamma t}.\n",
    "\\label{_auto10} \\tag{10}\n",
    "\\end{equation}\n",
    "$$"
   ]
  },
  {
   "cell_type": "markdown",
   "metadata": {},
   "source": [
    "In this case a particular solution is one with constant velocity,"
   ]
  },
  {
   "cell_type": "markdown",
   "metadata": {},
   "source": [
    "<!-- Equation labels as ordinary links -->\n",
    "<div id=\"_auto11\"></div>\n",
    "\n",
    "$$\n",
    "\\begin{equation}\n",
    "v_{y,p}=-g/\\gamma.\n",
    "\\label{_auto11} \\tag{11}\n",
    "\\end{equation}\n",
    "$$"
   ]
  },
  {
   "cell_type": "markdown",
   "metadata": {},
   "source": [
    "Note that this is the terminal velocity of a particle falling from a\n",
    "great height. The general solution is thus,"
   ]
  },
  {
   "cell_type": "markdown",
   "metadata": {},
   "source": [
    "<!-- Equation labels as ordinary links -->\n",
    "<div id=\"_auto12\"></div>\n",
    "\n",
    "$$\n",
    "\\begin{equation}\n",
    "v_y=Be^{-\\gamma t}-g/\\gamma,\n",
    "\\label{_auto12} \\tag{12}\n",
    "\\end{equation}\n",
    "$$"
   ]
  },
  {
   "cell_type": "markdown",
   "metadata": {},
   "source": [
    "and one can find $B$ from the initial velocity,"
   ]
  },
  {
   "cell_type": "markdown",
   "metadata": {},
   "source": [
    "<!-- Equation labels as ordinary links -->\n",
    "<div id=\"_auto13\"></div>\n",
    "\n",
    "$$\n",
    "\\begin{equation}\n",
    "v_{0y}=B-g/\\gamma,~~~B=v_{0y}+g/\\gamma.\n",
    "\\label{_auto13} \\tag{13}\n",
    "\\end{equation}\n",
    "$$"
   ]
  },
  {
   "cell_type": "markdown",
   "metadata": {},
   "source": [
    "Plugging in the expression for $B$ gives the $y$ motion given the initial velocity,"
   ]
  },
  {
   "cell_type": "markdown",
   "metadata": {},
   "source": [
    "<!-- Equation labels as ordinary links -->\n",
    "<div id=\"_auto14\"></div>\n",
    "\n",
    "$$\n",
    "\\begin{equation}\n",
    "v_y=(v_{0y}+g/\\gamma)e^{-\\gamma t}-g/\\gamma.\n",
    "\\label{_auto14} \\tag{14}\n",
    "\\end{equation}\n",
    "$$"
   ]
  },
  {
   "cell_type": "markdown",
   "metadata": {},
   "source": [
    "It is easy to see that this solution has $v_y=v_{0y}$ when $t=0$ and\n",
    "$v_y=-g/\\gamma$ when $t\\rightarrow\\infty$.\n",
    "\n",
    "One can also integrate the two equations to find the coordinates $x$\n",
    "and $y$ as functions of $t$,"
   ]
  },
  {
   "cell_type": "markdown",
   "metadata": {},
   "source": [
    "$$\n",
    "\\begin{eqnarray}\n",
    "x&=&\\int_0^t dt'~v_{0x}(t')=\\frac{v_{0x}}{\\gamma}\\left(1-e^{-\\gamma t}\\right),\\\\\n",
    "\\nonumber\n",
    "y&=&\\int_0^t dt'~v_{0y}(t')=-\\frac{gt}{\\gamma}+\\frac{v_{0y}+g/\\gamma}{\\gamma}\\left(1-e^{-\\gamma t}\\right).\n",
    "\\end{eqnarray}\n",
    "$$"
   ]
  },
  {
   "cell_type": "markdown",
   "metadata": {},
   "source": [
    "If the question was to find the position at a time $t$, we would be\n",
    "finished. However, the more common goal in a projectile equation\n",
    "problem is to find the range, i.e. the distance $x$ at which $y$\n",
    "returns to zero. For the case without a drag force this was much\n",
    "simpler. The solution for the $y$ coordinate would have been\n",
    "$y=v_{0y}t-gt^2/2$. One would solve for $t$ to make $y=0$, which would\n",
    "be $t=2v_{0y}/g$, then plug that value for $t$ into $x=v_{0x}t$ to\n",
    "find $x=2v_{0x}v_{0y}/g=v_0\\sin(2\\theta_0)/g$. One follows the same\n",
    "steps here, except that the expression for $y(t)$ is more\n",
    "complicated. Searching for the time where $y=0$, and we get"
   ]
  },
  {
   "cell_type": "markdown",
   "metadata": {},
   "source": [
    "<!-- Equation labels as ordinary links -->\n",
    "<div id=\"_auto15\"></div>\n",
    "\n",
    "$$\n",
    "\\begin{equation}\n",
    "0=-\\frac{gt}{\\gamma}+\\frac{v_{0y}+g/\\gamma}{\\gamma}\\left(1-e^{-\\gamma t}\\right).\n",
    "\\label{_auto15} \\tag{15}\n",
    "\\end{equation}\n",
    "$$"
   ]
  },
  {
   "cell_type": "markdown",
   "metadata": {},
   "source": [
    "This cannot be inverted into a simple expression $t=\\cdots$. Such\n",
    "expressions are known as \"transcendental equations\", and are not the\n",
    "rare instance, but are the norm. In the days before computers, one\n",
    "might plot the right-hand side of the above graphically as\n",
    "a function of time, then find the point where it crosses zero.\n",
    "\n",
    "Now, the most common way to solve for an equation of the above type\n",
    "would be to apply Newton's method numerically. This involves the\n",
    "following algorithm for finding solutions of some equation $F(t)=0$.\n",
    "\n",
    "1. First guess a value for the time, $t_{\\rm guess}$.\n",
    "\n",
    "2. Calculate $F$ and its derivative, $F(t_{\\rm guess})$ and $F'(t_{\\rm guess})$. \n",
    "\n",
    "3. Unless you guessed perfectly, $F\\ne 0$, and assuming that $\\Delta F\\approx F'\\Delta t$, one would choose \n",
    "\n",
    "4. $\\Delta t=-F(t_{\\rm guess})/F'(t_{\\rm guess})$.\n",
    "\n",
    "5. Now repeat step 1, but with $t_{\\rm guess}\\rightarrow t_{\\rm guess}+\\Delta t$.\n",
    "\n",
    "If the $F(t)$ were perfectly linear in $t$, one would find $t$ in one\n",
    "step. Instead, one typically finds a value of $t$ that is closer to\n",
    "the final answer than $t_{\\rm guess}$. One breaks the loop once one\n",
    "finds $F$ within some acceptable tolerance of zero. A program to do\n",
    "this will be added shortly.\n",
    "\n",
    "## Motion in a Magnetic Field\n",
    "\n",
    "\n",
    "Another example of a velocity-dependent force is magnetism,"
   ]
  },
  {
   "cell_type": "markdown",
   "metadata": {},
   "source": [
    "$$\n",
    "\\begin{eqnarray}\n",
    "\\boldsymbol{F}&=&q\\boldsymbol{v}\\times\\boldsymbol{B},\\\\\n",
    "\\nonumber\n",
    "F_i&=&q\\sum_{jk}\\epsilon_{ijk}v_jB_k.\n",
    "\\end{eqnarray}\n",
    "$$"
   ]
  },
  {
   "cell_type": "markdown",
   "metadata": {},
   "source": [
    "For a uniform field in the $z$ direction $\\boldsymbol{B}=B\\hat{z}$, the force can only have $x$ and $y$ components,"
   ]
  },
  {
   "cell_type": "markdown",
   "metadata": {},
   "source": [
    "$$\n",
    "\\begin{eqnarray}\n",
    "F_x&=&qBv_y\\\\\n",
    "\\nonumber\n",
    "F_y&=&-qBv_x.\n",
    "\\end{eqnarray}\n",
    "$$"
   ]
  },
  {
   "cell_type": "markdown",
   "metadata": {},
   "source": [
    "The differential equations are"
   ]
  },
  {
   "cell_type": "markdown",
   "metadata": {},
   "source": [
    "$$\n",
    "\\begin{eqnarray}\n",
    "\\dot{v}_x&=&\\omega_c v_y,\\omega_c= qB/m\\\\\n",
    "\\nonumber\n",
    "\\dot{v}_y&=&-\\omega_c v_x.\n",
    "\\end{eqnarray}\n",
    "$$"
   ]
  },
  {
   "cell_type": "markdown",
   "metadata": {},
   "source": [
    "One can solve the equations by taking time derivatives of either equation, then substituting into the other equation,"
   ]
  },
  {
   "cell_type": "markdown",
   "metadata": {},
   "source": [
    "$$\n",
    "\\begin{eqnarray}\n",
    "\\ddot{v}_x=\\omega_c\\dot{v_y}=-\\omega_c^2v_x,\\\\\n",
    "\\nonumber\n",
    "\\ddot{v}_y&=&-\\omega_c\\dot{v}_x=-\\omega_cv_y.\n",
    "\\end{eqnarray}\n",
    "$$"
   ]
  },
  {
   "cell_type": "markdown",
   "metadata": {},
   "source": [
    "The solution to these equations can be seen by inspection,"
   ]
  },
  {
   "cell_type": "markdown",
   "metadata": {},
   "source": [
    "$$\n",
    "\\begin{eqnarray}\n",
    "v_x&=&A\\sin(\\omega_ct+\\phi),\\\\\n",
    "\\nonumber\n",
    "v_y&=&A\\cos(\\omega_ct+\\phi).\n",
    "\\end{eqnarray}\n",
    "$$"
   ]
  },
  {
   "cell_type": "markdown",
   "metadata": {},
   "source": [
    "One can integrate the equations to find the positions as a function of time,"
   ]
  },
  {
   "cell_type": "markdown",
   "metadata": {},
   "source": [
    "$$\n",
    "\\begin{eqnarray}\n",
    "x-x_0&=&\\int_{x_0}^x dx=\\int_0^t dt v(t)\\\\\n",
    "\\nonumber\n",
    "&=&\\frac{-A}{\\omega_c}\\cos(\\omega_ct+\\phi),\\\\\n",
    "\\nonumber\n",
    "y-y_0&=&\\frac{A}{\\omega_c}\\sin(\\omega_ct+\\phi).\n",
    "\\end{eqnarray}\n",
    "$$"
   ]
  },
  {
   "cell_type": "markdown",
   "metadata": {},
   "source": [
    "The trajectory is a circle centered at $x_0,y_0$ with amplitude $A$ rotating in the clockwise direction.\n",
    "\n",
    "The equations of motion for the $z$ motion are"
   ]
  },
  {
   "cell_type": "markdown",
   "metadata": {},
   "source": [
    "<!-- Equation labels as ordinary links -->\n",
    "<div id=\"_auto16\"></div>\n",
    "\n",
    "$$\n",
    "\\begin{equation}\n",
    "\\dot{v_z}=0,\n",
    "\\label{_auto16} \\tag{16}\n",
    "\\end{equation}\n",
    "$$"
   ]
  },
  {
   "cell_type": "markdown",
   "metadata": {},
   "source": [
    "which leads to"
   ]
  },
  {
   "cell_type": "markdown",
   "metadata": {},
   "source": [
    "<!-- Equation labels as ordinary links -->\n",
    "<div id=\"_auto17\"></div>\n",
    "\n",
    "$$\n",
    "\\begin{equation}\n",
    "z-z_0=V_zt.\n",
    "\\label{_auto17} \\tag{17}\n",
    "\\end{equation}\n",
    "$$"
   ]
  },
  {
   "cell_type": "markdown",
   "metadata": {},
   "source": [
    "Added onto the circle, the motion is helical.\n",
    "\n",
    "Note that the kinetic energy,"
   ]
  },
  {
   "cell_type": "markdown",
   "metadata": {},
   "source": [
    "<!-- Equation labels as ordinary links -->\n",
    "<div id=\"_auto18\"></div>\n",
    "\n",
    "$$\n",
    "\\begin{equation}\n",
    "T=\\frac{1}{2}m(v_x^2+v_y^2+v_z^2)=\\frac{1}{2}m(\\omega_c^2A^2+V_z^2),\n",
    "\\label{_auto18} \\tag{18}\n",
    "\\end{equation}\n",
    "$$"
   ]
  },
  {
   "cell_type": "markdown",
   "metadata": {},
   "source": [
    "is constant. This is because the force is perpendicular to the\n",
    "velocity, so that in any differential time element $dt$ the work done\n",
    "on the particle $\\boldsymbol{F}\\cdot{dr}=dt\\boldsymbol{F}\\cdot{v}=0$.\n",
    "\n",
    "One should think about the implications of a velocity dependent\n",
    "force. Suppose one had a constant magnetic field in deep space. If a\n",
    "particle came through with velocity $v_0$, it would undergo cyclotron\n",
    "motion with radius $R=v_0/\\omega_c$. However, if it were still its\n",
    "motion would remain fixed. Now, suppose an observer looked at the\n",
    "particle in one reference frame where the particle was moving, then\n",
    "changed their velocity so that the particle's velocity appeared to be\n",
    "zero. The motion would change from circular to fixed. Is this\n",
    "possible?\n",
    "\n",
    "The solution to the puzzle above relies on understanding\n",
    "relativity. Imagine that the first observer believes $\\boldsymbol{B}\\ne 0$ and\n",
    "that the electric field $\\boldsymbol{E}=0$. If the observer then changes\n",
    "reference frames by accelerating to a velocity $\\boldsymbol{v}$, in the new\n",
    "frame $\\boldsymbol{B}$ and $\\boldsymbol{E}$ both change. If the observer moved to the\n",
    "frame where the charge, originally moving with a small velocity $v$,\n",
    "is now at rest, the new electric field is indeed $\\boldsymbol{v}\\times\\boldsymbol{B}$,\n",
    "which then leads to the same acceleration as one had before. If the\n",
    "velocity is not small compared to the speed of light, additional\n",
    "$\\gamma$ factors come into play,\n",
    "$\\gamma=1/\\sqrt{1-(v/c)^2}$. Relativistic motion will not be\n",
    "considered in this course.\n",
    "\n",
    "\n",
    "\n",
    "## Sliding Block tied to a Wall\n",
    "\n",
    "Another classical case is that of simple harmonic oscillations, here\n",
    "represented by a block sliding on a horizontal frictionless\n",
    "surface. The block is tied to a wall with a spring. If the spring is\n",
    "not compressed or stretched too far, the force on the block at a given\n",
    "position $x$ is"
   ]
  },
  {
   "cell_type": "markdown",
   "metadata": {},
   "source": [
    "$$\n",
    "F=-kx.\n",
    "$$"
   ]
  },
  {
   "cell_type": "markdown",
   "metadata": {},
   "source": [
    "## Back and Forth, Sliding Block with no friction\n",
    "\n",
    "The negative sign means that the force acts to restore the object to an equilibrium position. Newton's equation of motion for this idealized system is then"
   ]
  },
  {
   "cell_type": "markdown",
   "metadata": {},
   "source": [
    "$$\n",
    "m\\frac{d^2x}{dt^2}=-kx,\n",
    "$$"
   ]
  },
  {
   "cell_type": "markdown",
   "metadata": {},
   "source": [
    "or we could rephrase it as"
   ]
  },
  {
   "cell_type": "markdown",
   "metadata": {},
   "source": [
    "<!-- Equation labels as ordinary links -->\n",
    "<div id=\"eq:newton1\"></div>\n",
    "\n",
    "$$\n",
    "\\frac{d^2x}{dt^2}=-\\frac{k}{m}x=-\\omega_0^2x,\n",
    "\\label{eq:newton1} \\tag{19}\n",
    "$$"
   ]
  },
  {
   "cell_type": "markdown",
   "metadata": {},
   "source": [
    "with the angular frequency $\\omega_0^2=k/m$. \n",
    "\n",
    "We will derive the above force when we start studying **harmonic oscillations**. \n",
    "\n",
    "## Final rewrite\n",
    "\n",
    "With the position $x(t)$ and the velocity  $v(t)=dx/dt$ we can reformulate Newton's equation in the following way"
   ]
  },
  {
   "cell_type": "markdown",
   "metadata": {},
   "source": [
    "$$\n",
    "\\frac{dx(t)}{dt}=v(t),\n",
    "$$"
   ]
  },
  {
   "cell_type": "markdown",
   "metadata": {},
   "source": [
    "and"
   ]
  },
  {
   "cell_type": "markdown",
   "metadata": {},
   "source": [
    "$$\n",
    "\\frac{dv(t)}{dt}=-\\omega_0^2x(t).\n",
    "$$"
   ]
  },
  {
   "cell_type": "markdown",
   "metadata": {},
   "source": [
    "With initial conditions $x(t_0)=x_0$ and $v(t_0)=v_0$ we can in turn solve the differential equations. \n",
    "\n",
    "## Analytical Solution\n",
    "\n",
    "The above differential equation has the advantage that it can be\n",
    "solved analytically with general solutions on the form"
   ]
  },
  {
   "cell_type": "markdown",
   "metadata": {},
   "source": [
    "$$\n",
    "x(t)=A\\cos{\\omega_0t}+B\\sin{\\omega_0t},\n",
    "$$"
   ]
  },
  {
   "cell_type": "markdown",
   "metadata": {},
   "source": [
    "and"
   ]
  },
  {
   "cell_type": "markdown",
   "metadata": {},
   "source": [
    "$$\n",
    "v(t)=-\\omega_0 A\\sin{\\omega_0t}+\\omega_0 B\\cos{\\omega_0t},\n",
    "$$"
   ]
  },
  {
   "cell_type": "markdown",
   "metadata": {},
   "source": [
    "where $A$ and $B$ are constants to be determined from the initial conditions.\n",
    "\n",
    "This provides in turn an important test for the numerical solution and\n",
    "the development of a program for more complicated cases which cannot\n",
    "be solved analytically.\n",
    "\n",
    "We will discuss the above equations in more detail when we discuss harmonic oscillations.\n",
    "\n",
    "\n",
    "\n",
    "## Summarizing the various motion problems 1\n",
    "\n",
    "The examples we have discussed above were included in order to\n",
    "illustrate various methods (which depend on the specific problem) to\n",
    "find the solutions of the equations of motion.\n",
    "We have solved the equations of motion in the following ways:\n",
    "\n",
    "**Solve the differential equations analytically.**\n",
    "\n",
    "We did this for example with the following object in one or two dimensions or the sliding block. \n",
    "Here we had for example an equation set like"
   ]
  },
  {
   "cell_type": "markdown",
   "metadata": {},
   "source": [
    "$$\n",
    "\\frac{dv_x}{dt}=-\\gamma v_x,\n",
    "$$"
   ]
  },
  {
   "cell_type": "markdown",
   "metadata": {},
   "source": [
    "and"
   ]
  },
  {
   "cell_type": "markdown",
   "metadata": {},
   "source": [
    "$$\n",
    "\\frac{dv_y}{dt}=-\\gamma v_y-g,\n",
    "$$"
   ]
  },
  {
   "cell_type": "markdown",
   "metadata": {},
   "source": [
    "and $\\gamma$ has dimension of inverse time.\n",
    "\n",
    "\n",
    "\n",
    "\n",
    "## Summarizing the various motion problems 2\n",
    "\n",
    "\n",
    "**Integrate the equations.**\n",
    "\n",
    "We could also in case we can separate the degrees of freedom integrate. Take for example one of the equations in the previous slide"
   ]
  },
  {
   "cell_type": "markdown",
   "metadata": {},
   "source": [
    "$$\n",
    "\\frac{dv_x}{dt}=-\\gamma v_x,\n",
    "$$"
   ]
  },
  {
   "cell_type": "markdown",
   "metadata": {},
   "source": [
    "which we can rewrite in terms of a left-hand side which depends only on the velocity and a right-hand side which depends only on time"
   ]
  },
  {
   "cell_type": "markdown",
   "metadata": {},
   "source": [
    "$$\n",
    "\\frac{dv_x}{v_x}=-\\gamma dt.\n",
    "$$"
   ]
  },
  {
   "cell_type": "markdown",
   "metadata": {},
   "source": [
    "Integrating we have (since we can separate $v_x$ and $t$)"
   ]
  },
  {
   "cell_type": "markdown",
   "metadata": {},
   "source": [
    "$$\n",
    "\\int_{v_0}^{v_t}\\frac{dv_x}{v_x}=-\\int_{t_0}^{t_f}\\gamma dt,\n",
    "$$"
   ]
  },
  {
   "cell_type": "markdown",
   "metadata": {},
   "source": [
    "where $v_f$ is the velocity at a final time and $t_f$ is the final time.\n",
    "In this case we found, after having integrated the above two sides that"
   ]
  },
  {
   "cell_type": "markdown",
   "metadata": {},
   "source": [
    "$$\n",
    "v_f(t)=v_0\\exp{-\\gamma t}.\n",
    "$$"
   ]
  },
  {
   "cell_type": "markdown",
   "metadata": {},
   "source": [
    "## Summarizing the various motion problems 3\n",
    "\n",
    "\n",
    "**Solve the differential equations numerically.**\n",
    "\n",
    "\n",
    "Finally, using for example Euler's method, we can solve the\n",
    "differential equations numerically. If we can compare our numerical\n",
    "solutions with analytical solutions, we have an extra check of our\n",
    "numerical approaches.\n",
    "\n",
    "The example code on the next slide is relevant for homework 3. Here we deal with a falling object in two dimensions. Except for the derivations above with an\n",
    "air resistance which is linear in the velocity, homework 3 uses a quadratic velocity dependence.\n",
    "\n",
    "\n",
    "\n",
    "## Code example using Euler's methods\n",
    "\n",
    "**Note**: this code needs some additional expressions and will not run"
   ]
  },
  {
   "cell_type": "code",
   "execution_count": null,
   "metadata": {},
   "outputs": [],
   "source": [
    "%matplotlib inline\n",
    "\n",
    "# Common imports\n",
    "import numpy as np\n",
    "import pandas as pd\n",
    "from math import *\n",
    "import matplotlib.pyplot as plt\n",
    "import os\n",
    "from pylab import plt, mpl\n",
    "plt.style.use('seaborn')\n",
    "mpl.rcParams['font.family'] = 'serif'\n",
    "\n",
    "#define the gravitational acceleration\n",
    "g = 9.80655 #m/s^2\n",
    "# The mass and the drag constant D\n",
    "D = 0.00245 #mass/length   kg/m\n",
    "m = 0.2 #kg, mass of falling object\n",
    "DeltaT = 0.001\n",
    "#set up final time, here just a number we have chosen\n",
    "tfinal = 1.0\n",
    "# set up number of points for all variables\n",
    "n = ceil(tfinal/DeltaT)\n",
    "# set up arrays for t, a, v, and y and arrays for analytical results\n",
    "# Note the brute force setting up of arrays for x and y, vx, vy, ax and ay\n",
    "# For hw3 you should think of using the 2-dim vectors you used in homework 2\n",
    "t = np.zeros(n)\n",
    "vy = np.zeros(n)\n",
    "y = np.zeros(n)\n",
    "vx = np.zeros(n)\n",
    "x = np.zeros(n)\n",
    "# Initial conditions\n",
    "vx[0] = 10.0 #m/s\n",
    "vy[0] = 0.0  #m/s\n",
    "y[0] = 10.0 #m\n",
    "x[0] = 0.0 #m\n",
    "# Start integrating using Euler's method\n",
    "for i in range(n-1):\n",
    "    # expression for acceleration, you need to set them up\n",
    "#    ax = You need to set up the expression for force and thereby the acceleration in the x-direction\n",
    "#    ay = You need to set up the expression for force and thereby the acceleration in the y-direction\n",
    "    # update velocity and position\n",
    "    vx[i+1] = vx[i] + DeltaT*ax\n",
    "    x[i+1] = x[i] + DeltaT*vx[i]\n",
    "    vy[i+1] = vy[i] + DeltaT*ay\n",
    "    y[i+1] = y[i] + DeltaT*vy[i]\n",
    "    # update time to next time step and compute analytical answer\n",
    "    t[i+1] = t[i] + DeltaT\n",
    "#  Here you need to set up the analytical solution for y(t) and x(t)\n",
    "\n",
    "if ( y[i+1] < 0.0):\n",
    "        break\n",
    "data = {'t[s]': t,\n",
    "        'Relative error in y': abs((y-yanalytic)/yanalytic),\n",
    "        'vy[m/s]': vy,\n",
    "        'Relative error in x': abs((x-xanalytic)/xanalytic),\n",
    "        'vx[m/s]': vx\n",
    "}\n",
    "NewData = pd.DataFrame(data)\n",
    "display(NewData)\n",
    "# save to file\n",
    "NewData.to_csv(outfile, index=False)\n",
    "#then plot\n",
    "fig, axs = plt.subplots(4, 1)\n",
    "axs[0].plot(t, y)\n",
    "axs[0].set_xlim(0, tfinal)\n",
    "axs[0].set_ylabel('y')\n",
    "axs[1].plot(t, vy)\n",
    "axs[1].set_ylabel('vy[m/s]')\n",
    "axs[1].set_xlabel('time[s]')\n",
    "axs[2].plot(t, x)\n",
    "axs[2].set_xlim(0, tfinal)\n",
    "axs[2].set_ylabel('x')\n",
    "axs[3].plot(t, vx)\n",
    "axs[3].set_ylabel('vx[m/s]')\n",
    "axs[3].set_xlabel('time[s]')\n",
    "fig.tight_layout()\n",
    "plt.show()"
   ]
  },
  {
   "cell_type": "markdown",
   "metadata": {},
   "source": [
    "## Work, Energy, Momentum and Conservation laws\n",
    "\n",
    "The previous three cases have shown us how to use Newton’s laws of\n",
    "motion to determine the motion of an object based on the forces acting\n",
    "on it. For two of the cases there is an underlying assumption that we can find an analytical solution to a continuous problem.\n",
    "With a continuous problem we mean a problem where the various variables can take any value within a finite or infinite interval. \n",
    "\n",
    "Unfortunately, in many cases we\n",
    "cannot find an exact solution to the equations of motion we get from\n",
    "Newton’s second law. The numerical approach, where we discretize the continuous problem, allows us however to study a much richer set of problems.\n",
    "For problems involving Newton's laws and the various equations of motion we encounter, solving the equations numerically, is the standard approach.\n",
    "\n",
    "It allows us to focus on the underlying forces. Often we end up using the same numerical algorithm for different problems.\n",
    "\n",
    "Here we introduce a commonly used technique that allows us to find the\n",
    "velocity as a function of position without finding the position as a\n",
    "function of time—an alternate form of Newton’s second law. The method\n",
    "is based on a simple principle: Instead of solving the equations of\n",
    "motion directly, we integrate the equations of motion. Such a method\n",
    "is called an integration method. \n",
    "\n",
    "This allows us also to introduce the **work-energy** theorem. This\n",
    "theorem allows us to find the velocity as a function of position for\n",
    "an object even in cases when we cannot solve the equations of\n",
    "motion. This introduces us to the concept of work and kinetic energy,\n",
    "an energy related to the motion of an object.\n",
    "\n",
    "And finally, we will link the work-energy theorem with the principle of conservation of energy.\n",
    "\n",
    "## The Work-Energy Theorem\n",
    "\n",
    "Let us define the kinetic energy $K$ with a given velocity $\\boldsymbol{v}$"
   ]
  },
  {
   "cell_type": "markdown",
   "metadata": {},
   "source": [
    "$$\n",
    "K=\\frac{1}{2}mv^2,\n",
    "$$"
   ]
  },
  {
   "cell_type": "markdown",
   "metadata": {},
   "source": [
    "where $m$ is the mass of the object we are considering.\n",
    "We assume also that there is a force $\\boldsymbol{F}$ acting on the given object"
   ]
  },
  {
   "cell_type": "markdown",
   "metadata": {},
   "source": [
    "$$\n",
    "\\boldsymbol{F}=\\boldsymbol{F}(\\boldsymbol{r},\\boldsymbol{v},t),\n",
    "$$"
   ]
  },
  {
   "cell_type": "markdown",
   "metadata": {},
   "source": [
    "with $\\boldsymbol{r}$ the position and $t$ the time.\n",
    "In general we assume the force is a function of all these variables.\n",
    "Many of the more central forces in Nature however, depende only on the\n",
    "position. Examples are the gravitational force and the force derived\n",
    "from the Coulomb potential in electromagnetism.\n",
    "\n",
    "## Rewriting the Kinetic Energy\n",
    "\n",
    "Let us study the derivative of the kinetic energy with respect to time $t$. Its continuous form is"
   ]
  },
  {
   "cell_type": "markdown",
   "metadata": {},
   "source": [
    "$$\n",
    "\\frac{dK}{dt}=\\frac{1}{2}m\\frac{d\\boldsymbol{v}\\cdot\\boldsymbol{v}}{dt}.\n",
    "$$"
   ]
  },
  {
   "cell_type": "markdown",
   "metadata": {},
   "source": [
    "Using our results from exercise 3 of homework 1, we can write the derivative of a vector dot product as"
   ]
  },
  {
   "cell_type": "markdown",
   "metadata": {},
   "source": [
    "$$\n",
    "\\frac{dK}{dt}=\\frac{1}{2}m\\frac{d\\boldsymbol{v}\\cdot\\boldsymbol{v}}{dt}= \\frac{1}{2}m\\left(\\frac{d\\boldsymbol{v}}{dt}\\cdot\\boldsymbol{v}+\\boldsymbol{v}\\cdot\\frac{d\\boldsymbol{v}}{dt}\\right)=m\\frac{d\\boldsymbol{v}}{dt}\\cdot\\boldsymbol{v}.\n",
    "$$"
   ]
  },
  {
   "cell_type": "markdown",
   "metadata": {},
   "source": [
    "We know also that the acceleration is defined as"
   ]
  },
  {
   "cell_type": "markdown",
   "metadata": {},
   "source": [
    "$$\n",
    "\\boldsymbol{a}=\\frac{\\boldsymbol{F}}{m}=\\frac{d\\boldsymbol{v}}{dt}.\n",
    "$$"
   ]
  },
  {
   "cell_type": "markdown",
   "metadata": {},
   "source": [
    "We can then rewrite the equation for the derivative of the kinetic energy as"
   ]
  },
  {
   "cell_type": "markdown",
   "metadata": {},
   "source": [
    "$$\n",
    "\\frac{dK}{dt}=m\\frac{d\\boldsymbol{v}}{dt}\\boldsymbol{v}=\\boldsymbol{F}\\frac{d\\boldsymbol{r}}{dt},\n",
    "$$"
   ]
  },
  {
   "cell_type": "markdown",
   "metadata": {},
   "source": [
    "where we defined the velocity as the derivative of the position with respect to time.\n",
    "\n",
    "## Discretizing\n",
    "\n",
    "Let us now discretize the above equation by letting the instantenous terms be replaced by a discrete quantity, that is\n",
    "we let $dK\\rightarrow \\Delta K$, $dt\\rightarrow \\Delta t$, $d\\boldsymbol{r}\\rightarrow \\Delta \\boldsymbol{r}$ and $d\\boldsymbol{v}\\rightarrow \\Delta \\boldsymbol{v}$.\n",
    "\n",
    "We have then"
   ]
  },
  {
   "cell_type": "markdown",
   "metadata": {},
   "source": [
    "$$\n",
    "\\frac{\\Delta K}{\\Delta t}=m\\frac{\\Delta \\boldsymbol{v}}{\\Delta t}\\boldsymbol{v}=\\boldsymbol{F}\\frac{\\Delta \\boldsymbol{r}}{\\Delta t},\n",
    "$$"
   ]
  },
  {
   "cell_type": "markdown",
   "metadata": {},
   "source": [
    "or by multiplying out $\\Delta t$ we have"
   ]
  },
  {
   "cell_type": "markdown",
   "metadata": {},
   "source": [
    "$$\n",
    "\\Delta K=\\boldsymbol{F}\\Delta \\boldsymbol{r}.\n",
    "$$"
   ]
  },
  {
   "cell_type": "markdown",
   "metadata": {},
   "source": [
    "We define this quantity as the **work** done by the force $\\boldsymbol{F}$ during the displacement $\\Delta \\boldsymbol{r}$. If study the dimensionality of this problem we have mass times length squared divided by time squared, or just dimension energy.\n",
    "\n",
    "\n",
    "## Difference in kinetic energy\n",
    "\n",
    "If we now a series of such displacements $\\Delta \\boldsymbol{r}$ $i=0,1,\\dots,n$, we have a difference in kinetic energy at a final position $\\boldsymbol{r}_n$ and an \n",
    "initial position $\\boldsymbol{r}_0$ given by"
   ]
  },
  {
   "cell_type": "markdown",
   "metadata": {},
   "source": [
    "$$\n",
    "\\Delta K=\\frac{1}{2}mv_n^2-\\frac{1}{2}mv_0^2=\\sum_{i=0}^n\\boldsymbol{F}_i\\Delta \\boldsymbol{r},\n",
    "$$"
   ]
  },
  {
   "cell_type": "markdown",
   "metadata": {},
   "source": [
    "where $\\boldsymbol{F}_i$ are the forces acting at every position $\\boldsymbol{r}_i$.\n",
    "\n",
    "The work done by acting with a force on a set of displacements can\n",
    "then be as expressed as the difference between the initial and final\n",
    "kinetic energies.\n",
    "\n",
    "This defines the **work-energy** theorem.\n",
    "\n",
    "## From the discrete version to the continuous version\n",
    "\n",
    "If we take the limit $\\Delta \\boldsymbol{r}\\rightarrow 0$, we can rewrite the sum over the various displacements in terms of an integral, that is"
   ]
  },
  {
   "cell_type": "markdown",
   "metadata": {},
   "source": [
    "$$\n",
    "\\Delta K=\\frac{1}{2}mv_n^2-\\frac{1}{2}mv_0^2=\\sum_{i=0}^n\\boldsymbol{F}_i\\Delta \\boldsymbol{r}\\rightarrow \\int_{\\boldsymbol{r}_0}^{\\boldsymbol{r}_n}\\boldsymbol{F}(\\boldsymbol{r},\\boldsymbol{v},t)d\\boldsymbol{r}.\n",
    "$$"
   ]
  },
  {
   "cell_type": "markdown",
   "metadata": {},
   "source": [
    "This integral defines a path integral since it will depend on the given path we take between the two end points. We will replace the limits with the symbol $c$ in order to indicate that we take a specific countour in space when the force acts on the system. That is the work $W_{n0}$ between two points $\\boldsymbol{r}_n$ and $\\boldsymbol{r}_0$ is labeled as"
   ]
  },
  {
   "cell_type": "markdown",
   "metadata": {},
   "source": [
    "$$\n",
    "W_{n0}=\\frac{1}{2}mv_n^2-\\frac{1}{2}mv_0^2=\\int_{c}\\boldsymbol{F}(\\boldsymbol{r},\\boldsymbol{v},t)d\\boldsymbol{r}.\n",
    "$$"
   ]
  },
  {
   "cell_type": "markdown",
   "metadata": {},
   "source": [
    "Note that if the force is perpendicular to the displacement, then the force does not affect the kinetic energy.\n",
    "\n",
    "Let us now study some examples of forces and how to find the velocity from the integration over a given path."
   ]
  }
 ],
 "metadata": {
  "kernelspec": {
   "display_name": "Python 3",
   "language": "python",
   "name": "python3"
  },
  "language_info": {
   "codemirror_mode": {
    "name": "ipython",
    "version": 3
   },
   "file_extension": ".py",
   "mimetype": "text/x-python",
   "name": "python",
   "nbconvert_exporter": "python",
   "pygments_lexer": "ipython3",
   "version": "3.6.8"
  }
 },
 "nbformat": 4,
 "nbformat_minor": 4
}
